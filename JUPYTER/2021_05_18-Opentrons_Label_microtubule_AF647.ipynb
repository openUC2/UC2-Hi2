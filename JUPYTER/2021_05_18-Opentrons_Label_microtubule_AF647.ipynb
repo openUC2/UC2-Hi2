{
 "cells": [
  {
   "cell_type": "code",
   "execution_count": 1,
   "metadata": {},
   "outputs": [],
   "source": [
    "%load_ext autoreload\n",
    "%autoreload 2\n",
    "\n",
    "# organize the imports\n",
    "import opentrons.execute\n",
    "from opentrons import types \n",
    "import time\n",
    "import numpy as np\n",
    "import opentrons\n",
    "from  opentrons.types import Location, Point\n",
    "\n",
    "from opentrons_helper import * "
   ]
  },
  {
   "cell_type": "code",
   "execution_count": 2,
   "metadata": {},
   "outputs": [],
   "source": [
    "'''\n",
    "Connect to the microscope \n",
    "'''\n",
    "\n",
    "from microscope_client import MicroscopeClient \n",
    "microscope = MicroscopeClient(host=\"21.3.2.3\", port=5000)\n",
    "#!pip3 install zeroconf\n",
    "#!pip3 install requests\n"
   ]
  },
  {
   "cell_type": "code",
   "execution_count": 4,
   "metadata": {},
   "outputs": [
    {
     "name": "stderr",
     "output_type": "stream",
     "text": [
      "WARNING:opentrons.hardware_control.util:Out of bounds move: X=(418.00000000000006 motor controller, 419.5412429817696 deck) too high for limit 418.0\n",
      "WARNING:opentrons.hardware_control.util:Out of bounds move: X=(418.00000000000006 motor controller, 419.5412429817696 deck) too high for limit 418.0\n"
     ]
    }
   ],
   "source": [
    "# Connect to the opentrons robot\n",
    "protocol = opentrons.execute.get_protocol_api('2.9')\n",
    "protocol.home()\n",
    "\n",
    "# setup the pipets\n",
    "pipette = protocol.load_instrument('p300_single_gen2', 'right')\n",
    "pipette_8 = protocol.load_instrument('p300_multi', 'left') # causes errors -> don't use two pipettes!!\n"
   ]
  },
  {
   "cell_type": "code",
   "execution_count": 7,
   "metadata": {},
   "outputs": [
    {
     "name": "stdout",
     "output_type": "stream",
     "text": [
      "No pipette attached\n"
     ]
    },
    {
     "name": "stderr",
     "output_type": "stream",
     "text": [
      "WARNING:opentrons.hardware_control.util:Out of bounds move: X=(418.00000000000006 motor controller, 419.5412429817696 deck) too high for limit 418.0\n"
     ]
    },
    {
     "data": {
      "text/plain": [
       "<InstrumentContext: p300_single_v2.1 in RIGHT>"
      ]
     },
     "execution_count": 7,
     "metadata": {},
     "output_type": "execute_result"
    }
   ],
   "source": [
    "try:\n",
    "    pipette.drop_off()\n",
    "except:\n",
    "    print(\"No pipette attached\")\n",
    "pipette.home()"
   ]
  },
  {
   "cell_type": "code",
   "execution_count": 44,
   "metadata": {},
   "outputs": [
    {
     "ename": "ValueError",
     "evalue": "Deck location 10 already  has an item: <opentrons.protocols.context.protocol_api.labware.LabwareImplementation object at 0x6ed42570>",
     "output_type": "error",
     "traceback": [
      "\u001b[0;31m---------------------------------------------------------------------------\u001b[0m",
      "\u001b[0;31mValueError\u001b[0m                                Traceback (most recent call last)",
      "\u001b[0;32m<ipython-input-44-dfd7b0ef4a52>\u001b[0m in \u001b[0;36m<module>\u001b[0;34m()\u001b[0m\n\u001b[1;32m      2\u001b[0m \u001b[0;31m#plate_microscope = protocol.load_labware('corning_96_wellplate_360ul_flat', location='5')\u001b[0m\u001b[0;34m\u001b[0m\u001b[0;34m\u001b[0m\u001b[0;34m\u001b[0m\u001b[0m\n\u001b[1;32m      3\u001b[0m \u001b[0;31m#plate_reagents = protocol.load_labware('corning_24_wellplate_3.4ml_flat', location='9')\u001b[0m\u001b[0;34m\u001b[0m\u001b[0;34m\u001b[0m\u001b[0;34m\u001b[0m\u001b[0m\n\u001b[0;32m----> 4\u001b[0;31m \u001b[0mplate_reagents\u001b[0m \u001b[0;34m=\u001b[0m \u001b[0mprotocol\u001b[0m\u001b[0;34m.\u001b[0m\u001b[0mload_labware\u001b[0m\u001b[0;34m(\u001b[0m\u001b[0;34m'opentrons_24_tuberack_eppendorf_1.5ml_safelock_snapcap'\u001b[0m\u001b[0;34m,\u001b[0m \u001b[0mlocation\u001b[0m\u001b[0;34m=\u001b[0m\u001b[0;34m'10'\u001b[0m\u001b[0;34m)\u001b[0m\u001b[0;34m\u001b[0m\u001b[0;34m\u001b[0m\u001b[0m\n\u001b[0m\u001b[1;32m      5\u001b[0m \u001b[0;34m\u001b[0m\u001b[0m\n\u001b[1;32m      6\u001b[0m \u001b[0;34m\u001b[0m\u001b[0m\n",
      "\u001b[0;32m/usr/lib/python3.7/site-packages/opentrons/protocols/api_support/util.pyc\u001b[0m in \u001b[0;36m_check_version_wrapper\u001b[0;34m(*args, **kwargs)\u001b[0m\n",
      "\u001b[0;32m/usr/lib/python3.7/site-packages/opentrons/protocol_api/protocol_context.pyc\u001b[0m in \u001b[0;36mload_labware\u001b[0;34m(self, load_name, location, label, namespace, version)\u001b[0m\n",
      "\u001b[0;32m/usr/lib/python3.7/site-packages/opentrons/protocols/context/protocol_api/protocol_context.pyc\u001b[0m in \u001b[0;36mload_labware\u001b[0;34m(self, load_name, location, label, namespace, version)\u001b[0m\n",
      "\u001b[0;32m/usr/lib/python3.7/site-packages/opentrons/protocols/context/protocol_api/protocol_context.pyc\u001b[0m in \u001b[0;36mload_labware_from_definition\u001b[0;34m(self, labware_def, location, label)\u001b[0m\n",
      "\u001b[0;32m/usr/lib/python3.7/site-packages/opentrons/protocols/geometry/deck.pyc\u001b[0m in \u001b[0;36m__setitem__\u001b[0;34m(self, key, val)\u001b[0m\n",
      "\u001b[0;31mValueError\u001b[0m: Deck location 10 already  has an item: <opentrons.protocols.context.protocol_api.labware.LabwareImplementation object at 0x6ed42570>"
     ]
    }
   ],
   "source": [
    "# setup the labware in the trays\n",
    "#plate_microscope = protocol.load_labware('corning_96_wellplate_360ul_flat', location='5')\n",
    "#plate_reagents = protocol.load_labware('corning_24_wellplate_3.4ml_flat', location='9')\n",
    "plate_reagents = protocol.load_labware('opentrons_24_tuberack_eppendorf_1.5ml_safelock_snapcap', location='10')\n",
    "\n",
    "\n",
    "# Move light to the sample \n",
    "tiprack = protocol.load_labware('opentrons_96_tiprack_300ul',location='11')\n",
    "\n",
    "# sample plate on microscope\n",
    "# offset of the well plate in mm\n",
    "plate_sample = protocol.load_labware('corning_96_wellplate_360ul_flat', location='3')"
   ]
  },
  {
   "cell_type": "code",
   "execution_count": 45,
   "metadata": {},
   "outputs": [],
   "source": [
    "from opentrons.types import Location, Point\n",
    "\n",
    "# set speed\n",
    "#protocol.max_speeds['X'] = 200 # default = 400\n",
    "#protocol.max_speeds['Y'] = 200 # default = 300\n",
    "\n",
    "# ######\n",
    "# 0 4 8\n",
    "# 1 5 9\n",
    "# 2 6 10 \n",
    "# 3 7 11\n",
    "\n",
    "# wells with reagents\n",
    "i_ab_primary = 0\n",
    "i_ab_secondary = 1\n",
    "i_pbs = 2\n",
    "i_bsa = 3\n",
    "\n",
    "\n",
    "# define timig\n",
    "t_bsa = 15*0\n",
    "t_primary = 60*0\n",
    "t_secondary = 60*0\n",
    "t_fluo = 30*0\n",
    "\n",
    "# move it down since opentrons expects the reagents to be furthter away from the ground\n",
    "offset_z_reagents = -65\n",
    "\n",
    "# define locations \n",
    "minimum_z_height = 150 # minimum height for arcs driven by the robot\n",
    "\n",
    "# compute the positions\n",
    "position_idle =  (200,200,140)#\n",
    "\n",
    "position_trash =  (365,350, 100)\n",
    "\n",
    "position_idle =  (100,100, 150)#"
   ]
  },
  {
   "cell_type": "code",
   "execution_count": 46,
   "metadata": {},
   "outputs": [
    {
     "name": "stdout",
     "output_type": "stream",
     "text": [
      "Moving to: (365, 350, 100)\n"
     ]
    }
   ],
   "source": [
    "#\n",
    "move_to_coord(pipette, position_trash, offset=(0,0,0), minimum_z_height=minimum_z_height)"
   ]
  },
  {
   "cell_type": "code",
   "execution_count": 47,
   "metadata": {},
   "outputs": [
    {
     "name": "stdout",
     "output_type": "stream",
     "text": [
      "Moving to: (100, 100, 150)\n"
     ]
    }
   ],
   "source": [
    "\n",
    "move_to_coord(pipette, position_idle, offset=(0,0,0), minimum_z_height=minimum_z_height)"
   ]
  },
  {
   "cell_type": "code",
   "execution_count": null,
   "metadata": {},
   "outputs": [],
   "source": []
  },
  {
   "cell_type": "code",
   "execution_count": 48,
   "metadata": {},
   "outputs": [],
   "source": [
    "i_pipette  = 0"
   ]
  },
  {
   "cell_type": "markdown",
   "metadata": {},
   "source": [
    "# Calibrate"
   ]
  },
  {
   "cell_type": "code",
   "execution_count": 53,
   "metadata": {},
   "outputs": [
    {
     "name": "stdout",
     "output_type": "stream",
     "text": [
      "1\n",
      "My pipette number: 1and type: <class 'int'>\n",
      "<class 'int'>\n"
     ]
    }
   ],
   "source": [
    "'''\n",
    "calibrate tiprack\n",
    "'''\n",
    "#pitty, but moving the xy coordinates doesn't work\n",
    "print(i_pipette)\n",
    "offset_pipette_rack=(1,7,0)\n",
    "tiprack.set_calibration(Point(*offset_pipette_rack))\n",
    "\n",
    "i_pipette=pickup_fresh_pipette_tip(i_pipette, pipette, tiprack, offset_pipette_rack=offset_pipette_rack)\n",
    "print(type(i_pipette))"
   ]
  },
  {
   "cell_type": "code",
   "execution_count": 54,
   "metadata": {},
   "outputs": [
    {
     "name": "stdout",
     "output_type": "stream",
     "text": [
      "Please add a pipette first!\n",
      "Moving to: (255, 99, 202)\n",
      "Focusing: {'dz': [-500.0, -333.33333333333337, -166.66666666666669, 0.0, 166.66666666666663, 333.33333333333326, 500.0]}\n"
     ]
    }
   ],
   "source": [
    "'''\n",
    "calibrate illumination poisiton\n",
    "'''\n",
    "\n",
    "#protocol.home()\n",
    "#position_idle =  (100,300, 150)#\n",
    "#move_to_coord(pipette, position_idle, offset=(0,0,0), minimum_z_height=minimum_z_height)\n",
    "\n",
    "position_sample_light = (255, 99, 202)\n",
    "offset_x = 41790 # 1290+0*9000\n",
    "offset_y = 50000# -1400+4*9000\n",
    "offset_z = microscope.position[\"z\"]\n",
    "move_to_coord(pipette_8, position_sample_light, offset=(0,0,0), minimum_z_height=minimum_z_height)\n",
    "microscope.set_laser_led(0,0)\n",
    "microscope.move((offset_x,offset_y,offset_z),absolute=True)\n",
    "autofocus_dz = 500\n",
    "autofocus_Nz = 7\n",
    "offset_z = microscope.autofocus_coarse(dz=autofocus_dz, nz=autofocus_Nz)\n",
    "microscope.set_laser_led(0,0)"
   ]
  },
  {
   "cell_type": "code",
   "execution_count": 55,
   "metadata": {},
   "outputs": [
    {
     "name": "stdout",
     "output_type": "stream",
     "text": [
      "Moving to: (301, 109, 130.885)\n"
     ]
    }
   ],
   "source": [
    "'''\n",
    "Calibrate Wellposition for sample coordinates (96well plate)\n",
    "pipette should dip in the wells on the microscope\n",
    "\n",
    "'''\n",
    "#pipette.home()\n",
    "offset_z = microscope.position[\"z\"]\n",
    "home_position_microscope=(0,0,offset_z)\n",
    "microscope.move((home_position_microscope))\n",
    "\n",
    "\n",
    "#i_pipette=pickup_fresh_pipette_tip(i_pipette, pipette, tiprack, offset_pipette_rack=offset_pipette_rack)\n",
    "\n",
    "\n",
    "sample_position_15welplate =  (286+15, 115-6, 130.885) \n",
    "move_to_coord(pipette, sample_position_15welplate, offset=(0,0,0), minimum_z_height=minimum_z_height)\n"
   ]
  },
  {
   "cell_type": "code",
   "execution_count": null,
   "metadata": {},
   "outputs": [],
   "source": []
  },
  {
   "cell_type": "code",
   "execution_count": 56,
   "metadata": {},
   "outputs": [
    {
     "name": "stdout",
     "output_type": "stream",
     "text": [
      "Moving to: (14.21, 356.93, 5.949999999999996)\n",
      "Moving to: (14.21, 337.65, 5.949999999999996)\n",
      "Moving to: (14.21, 318.37, 5.949999999999996)\n",
      "Moving to: (14.21, 299.09, 5.949999999999996)\n",
      "Moving to: (18.21, 289.09, 80.94999999999999)\n"
     ]
    }
   ],
   "source": [
    "'''\n",
    "calibrate reagetn slots\n",
    "'''\n",
    "#pipette.home()\n",
    "\n",
    "offset_x_reagents = -4\n",
    "offset_y_reagents = 10\n",
    "offset_z_reagents = -55 # smaller number means: go up\n",
    "for i_pos in range(4):\n",
    "    #i_pipette = pickup_fresh_pipette_tip(i_pipette, pipette, tiprack, -8)\n",
    "    position_reagent_i = np.array(plate_reagents.wells()[i_pos].center()._point)\n",
    "    move_to_coord(pipette, position_reagent_i, offset=(offset_x_reagents,offset_y_reagents,offset_z_reagents), minimum_z_height=minimum_z_height)\n",
    "\n",
    "# move out of the well again\n",
    "move_to_coord(pipette, position_reagent_i, offset=(0,0,20), minimum_z_height=minimum_z_height)\n",
    "\n",
    "    "
   ]
  },
  {
   "cell_type": "code",
   "execution_count": null,
   "metadata": {},
   "outputs": [],
   "source": []
  },
  {
   "cell_type": "code",
   "execution_count": null,
   "metadata": {},
   "outputs": [],
   "source": []
  },
  {
   "cell_type": "code",
   "execution_count": null,
   "metadata": {},
   "outputs": [],
   "source": []
  },
  {
   "cell_type": "code",
   "execution_count": 57,
   "metadata": {},
   "outputs": [],
   "source": [
    "if(0): #test laser \n",
    "    microscope.set_laser_led(0,1)\n",
    "    autofocus_dz = 200\n",
    "    autofocus_Nz = 7\n",
    "    offset_z = autofocus_coarse(dz=autofocus_dz, nz=autofocus_Nz)\n",
    "    microscope.set_laser_led(0,0)\n",
    "    \n",
    "    # take BF image\n",
    "\n",
    "    move_to_coord(pipette_8, position_sample_light, offset=(0,0,0), minimum_z_height=minimum_z_height)\n",
    "    time.sleep(1) # debounce\n",
    "    microscope.move((offset_x,offset_y,offset_z),absolute=True)\n",
    "    microscope.capture_image_to_disk()\n",
    "\n",
    "    # take Fluo image\n",
    "    move_to_coord(pipette, position_idle, offset=(0,0,0), minimum_z_height=minimum_z_height)\n",
    "    time.sleep(1) # debounce\n",
    "    microscope.set_laser_led(1,1)\n",
    "    microscope.capture_image_to_disk()\n",
    "    time.sleep(1)\n",
    "    microscope.set_laser_led(0,0)"
   ]
  },
  {
   "cell_type": "code",
   "execution_count": 58,
   "metadata": {},
   "outputs": [],
   "source": [
    "# initialize strins\n",
    "\n",
    "\n",
    "from datetime import datetime\n",
    "timestamp = datetime.now().strftime(\"%Y_%m_%d-%I-%M-%S_%p\")\n",
    "i_experiment = 0\n"
   ]
  },
  {
   "cell_type": "markdown",
   "metadata": {},
   "source": [
    "# Do a time-lapse for an hour"
   ]
  },
  {
   "cell_type": "code",
   "execution_count": null,
   "metadata": {},
   "outputs": [],
   "source": []
  },
  {
   "cell_type": "code",
   "execution_count": null,
   "metadata": {},
   "outputs": [],
   "source": []
  },
  {
   "cell_type": "markdown",
   "metadata": {},
   "source": [
    "# Add Blocking Buffer\n",
    "\n",
    " we assume the sample is fixed and permeabilised and needs blocking fore primary/secondary antibody labelling"
   ]
  },
  {
   "cell_type": "code",
   "execution_count": 59,
   "metadata": {},
   "outputs": [
    {
     "name": "stdout",
     "output_type": "stream",
     "text": [
      "<class 'int'>\n",
      "Moving to: (301, 109, 130.885)\n",
      "Moving to: (361, 360, 55)\n",
      "Moving to: (14.21, 299.09, 5.949999999999996)\n",
      "Moving to: (301, 109, 130.885)\n",
      "Moving to: (100, 100, 150)\n"
     ]
    }
   ],
   "source": [
    "\n",
    "# move the wellplate to the zero position with the microscope\n",
    "microscope.move(home_position_microscope, absolute=True)\n",
    "\n",
    "# 1. Pickup new pipette\n",
    "#i_pipette = pickup_fresh_pipette_tip(i_pipette, pipette, tiprack, offset_pipette_rack)\n",
    "\n",
    "print(type(i_pipette))\n",
    "V_aspirate = 40\n",
    "        \n",
    "# first go to sample and pickup liquid \n",
    "move_to_coord(pipette, sample_position_15welplate, offset=(0,0,0), minimum_z_height=minimum_z_height)\n",
    "pipette.aspirate()\n",
    "\n",
    "# 3. Trash the liquid\n",
    "move_to_coord(pipette, position_trash, offset=(offset_x_reagents,offset_y_reagents,offset_z_reagents+10), minimum_z_height=minimum_z_height)\n",
    "pipette.dispense()\n",
    "                \n",
    "\n",
    "# 4- Pickup BSa and bring it to sample         \n",
    "position_reagent_i = np.array(plate_reagents.wells()[i_bsa].center()._point)\n",
    "move_to_coord(pipette, position_reagent_i, offset=(offset_x_reagents,offset_y_reagents,offset_z_reagents), minimum_z_height=minimum_z_height)\n",
    "pipette.aspirate(V_aspirate)\n",
    "\n",
    "# 5. Go to sample and add BSA \n",
    "move_to_coord(pipette, sample_position_15welplate, offset=(0,0,0), minimum_z_height=minimum_z_height)\n",
    "pipette.dispense()\n",
    "\n",
    "\n",
    "# go to idle positoin and rest\n",
    "move_to_coord(pipette, position_idle, offset=(0,0,0), minimum_z_height=minimum_z_height)\n",
    "\n",
    "# wait for 15 minutes \n",
    "#time.sleep(15*60)"
   ]
  },
  {
   "cell_type": "markdown",
   "metadata": {},
   "source": [
    "# Do timelapse for 15 minutes "
   ]
  },
  {
   "cell_type": "code",
   "execution_count": 60,
   "metadata": {},
   "outputs": [
    {
     "ename": "SyntaxError",
     "evalue": "invalid syntax (<ipython-input-60-d8a812c57356>, line 13)",
     "output_type": "error",
     "traceback": [
      "\u001b[0;36m  File \u001b[0;32m\"<ipython-input-60-d8a812c57356>\"\u001b[0;36m, line \u001b[0;32m13\u001b[0m\n\u001b[0;31m    while (time.time()-mytime)<(t_bsa*60)):\u001b[0m\n\u001b[0m                                         ^\u001b[0m\n\u001b[0;31mSyntaxError\u001b[0m\u001b[0;31m:\u001b[0m invalid syntax\n"
     ]
    }
   ],
   "source": [
    "# Microscope coordinates\n",
    "autofocus_dz = 1000\n",
    "autofocus_Nz= 9\n",
    "mytime = time.time()\n",
    "t_duration = 20 # minutes\n",
    "focus_pos_list = None # start with a fresh list\n",
    "Nx=5\n",
    "Ny=5\n",
    "well_to_well_steps= 500\n",
    "t_duration = 15 # how long does the experiment preform?\n",
    "t_period = 1 # min - how often should the expimrent be carried out?\n",
    "\n",
    "while (time.time()-mytime)<(t_bsa*60):\n",
    "    \n",
    "    if focus_pos_list is None or (i_experiment % 60)==0:\n",
    "        is_autofocus=True\n",
    "    else:\n",
    "        is_autofocus=False\n",
    "    \n",
    "    # perform a testing well scan by moving robot to light position and do a whole plate scan\n",
    "    move_to_coord(pipette_8, position_sample_light, offset=(0,0,0), minimum_z_height=minimum_z_height)\n",
    "    focus_pos_list = wellscan(microscope, offset_x, offset_y, i_experiment,\n",
    "            Nx, Ny, well_to_well_steps,\n",
    "            autofocus_dz, autofocus_Nz,\n",
    "                name_experiment=\"wellscan_afterbsa_\"+timestamp,\n",
    "                focus_pos_list=focus_pos_list, is_autofocus=is_autofocus,\n",
    "                is_autofocus_fine = False, \n",
    "                is_autofocus_fast = False,\n",
    "                I_laser=0, I_led=1)\n",
    "    i_experiment += 1"
   ]
  },
  {
   "cell_type": "markdown",
   "metadata": {},
   "source": [
    "# Add Primary"
   ]
  },
  {
   "cell_type": "code",
   "execution_count": 61,
   "metadata": {},
   "outputs": [
    {
     "name": "stdout",
     "output_type": "stream",
     "text": [
      "My pipette number: 2and type: <class 'int'>\n",
      "<class 'int'>\n",
      "Moving to: (301, 109, 130.885)\n",
      "Moving to: (361, 360, 55)\n",
      "Moving to: (14.21, 356.93, 5.949999999999996)\n",
      "Moving to: (301, 109, 130.885)\n",
      "Moving to: (100, 100, 150)\n"
     ]
    }
   ],
   "source": [
    "# move the wellplate to the zero position with the microscope\n",
    "microscope.move(home_position_microscope, absolute=True)\n",
    "\n",
    "# 1. Pickup new pipette\n",
    "i_pipette = pickup_fresh_pipette_tip(i_pipette, pipette, tiprack, offset_pipette_rack)\n",
    "\n",
    "print(type(i_pipette))\n",
    "V_aspirate = 40\n",
    "        \n",
    "# first go to sample and pickup liquid \n",
    "move_to_coord(pipette, sample_position_15welplate, offset=(0,0,0), minimum_z_height=minimum_z_height)\n",
    "pipette.aspirate()\n",
    "\n",
    "# 3. Trash the liquid\n",
    "move_to_coord(pipette, position_trash, offset=(offset_x_reagents,offset_y_reagents,offset_z_reagents+10), minimum_z_height=minimum_z_height)\n",
    "pipette.dispense()\n",
    "                \n",
    "\n",
    "# 4- Pickup Primary and bring it to sample         \n",
    "position_reagent_i = np.array(plate_reagents.wells()[i_ab_primary].center()._point)\n",
    "move_to_coord(pipette, position_reagent_i, offset=(offset_x_reagents,offset_y_reagents,offset_z_reagents), minimum_z_height=minimum_z_height)\n",
    "pipette.aspirate(V_aspirate)\n",
    "\n",
    "# 5. Go to sample and add BSA \n",
    "move_to_coord(pipette, sample_position_15welplate, offset=(0,0,0), minimum_z_height=minimum_z_height)\n",
    "pipette.dispense()\n",
    "\n",
    "\n",
    "# go to idle positoin and rest\n",
    "move_to_coord(pipette, position_idle, offset=(0,0,0), minimum_z_height=minimum_z_height)\n"
   ]
  },
  {
   "cell_type": "markdown",
   "metadata": {},
   "source": [
    "# Do timelapse for an hour"
   ]
  },
  {
   "cell_type": "code",
   "execution_count": 62,
   "metadata": {},
   "outputs": [
    {
     "ename": "SyntaxError",
     "evalue": "invalid syntax (<ipython-input-62-bd13ca77e178>, line 12)",
     "output_type": "error",
     "traceback": [
      "\u001b[0;36m  File \u001b[0;32m\"<ipython-input-62-bd13ca77e178>\"\u001b[0;36m, line \u001b[0;32m12\u001b[0m\n\u001b[0;31m    while (time.time()-mytime)<(t_primary*60)):\u001b[0m\n\u001b[0m                                             ^\u001b[0m\n\u001b[0;31mSyntaxError\u001b[0m\u001b[0;31m:\u001b[0m invalid syntax\n"
     ]
    }
   ],
   "source": [
    "# Microscope coordinates\n",
    "\n",
    "mytime = time.time()\n",
    "t_duration = 20 # minutes\n",
    "focus_pos_list = None # start with a fresh list\n",
    "Nx=5\n",
    "Ny=5\n",
    "well_to_well_steps= 500\n",
    "t_duration = 60 # how long does the experiment preform?\n",
    "t_period = 1 # min - how often should the expimrent be carried out?\n",
    "\n",
    "while (time.time()-mytime)<(t_primary*60):\n",
    "    \n",
    "    if focus_pos_list is None or (i_experiment % 60)==0:\n",
    "        is_autofocus=True\n",
    "    else:\n",
    "        is_autofocus=False\n",
    "    \n",
    "    # perform a testing well scan by moving robot to light position and do a whole plate scan\n",
    "    move_to_coord(pipette_8, position_sample_light, offset=(0,0,0), minimum_z_height=minimum_z_height)\n",
    "    focus_pos_list = wellscan(microscope, offset_x, offset_y, i_experiment,\n",
    "            Nx, Ny, well_to_well_steps,\n",
    "            autofocus_dz, autofocus_Nz,\n",
    "                name_experiment=\"wellscan_afterprimary_\"+timestamp,\n",
    "                focus_pos_list=focus_pos_list, is_autofocus=is_autofocus,\n",
    "                is_autofocus_fine = False, \n",
    "                is_autofocus_fast = False,\n",
    "                I_laser=0, I_led=1)\n",
    "    i_experiment += 1"
   ]
  },
  {
   "cell_type": "markdown",
   "metadata": {},
   "source": [
    "# Wash sample 3x "
   ]
  },
  {
   "cell_type": "code",
   "execution_count": 63,
   "metadata": {},
   "outputs": [
    {
     "name": "stdout",
     "output_type": "stream",
     "text": [
      "<class 'int'>\n",
      "Moving to: (301, 109, 130.885)\n",
      "Moving to: (361, 360, 55)\n",
      "Moving to: (14.21, 318.37, 5.949999999999996)\n",
      "Moving to: (301, 109, 130.885)\n",
      "Moving to: (301, 109, 130.885)\n",
      "Moving to: (361, 360, 55)\n",
      "Moving to: (14.21, 318.37, 5.949999999999996)\n",
      "Moving to: (301, 109, 130.885)\n",
      "Moving to: (301, 109, 130.885)\n",
      "Moving to: (361, 360, 55)\n",
      "Moving to: (14.21, 318.37, 5.949999999999996)\n",
      "Moving to: (301, 109, 130.885)\n",
      "Moving to: (100, 100, 150)\n"
     ]
    }
   ],
   "source": [
    "# move the wellplate to the zero position with the microscope\n",
    "microscope.move(home_position_microscope, absolute=True)\n",
    "\n",
    "# 1. Pickup new pipette\n",
    "#i_pipette = pickup_fresh_pipette_tip(i_pipette, pipette, tiprack, offset_pipette_rack)\n",
    "\n",
    "print(type(i_pipette))\n",
    "V_aspirate = 40\n",
    "\n",
    "for _ in range(3):\n",
    "    # first go to sample and pickup liquid \n",
    "    move_to_coord(pipette, sample_position_15welplate, offset=(0,0,0), minimum_z_height=minimum_z_height)\n",
    "    pipette.aspirate()\n",
    "\n",
    "    # 3. Trash the liquid\n",
    "    move_to_coord(pipette, position_trash, offset=(offset_x_reagents,offset_y_reagents,offset_z_reagents+10), minimum_z_height=minimum_z_height)\n",
    "    pipette.dispense()\n",
    "\n",
    "\n",
    "    # 4- Pickup Primary and bring it to sample         \n",
    "    position_reagent_i = np.array(plate_reagents.wells()[i_pbs].center()._point)\n",
    "    move_to_coord(pipette, position_reagent_i, offset=(offset_x_reagents,offset_y_reagents,offset_z_reagents), minimum_z_height=minimum_z_height)\n",
    "    pipette.aspirate(V_aspirate)\n",
    "\n",
    "    # 5. Go to sample and add PBS \n",
    "    move_to_coord(pipette, sample_position_15welplate, offset=(0,0,0), minimum_z_height=minimum_z_height)\n",
    "    pipette.dispense()\n",
    "\n",
    "\n",
    "# go to idle positoin and rest\n",
    "move_to_coord(pipette, position_idle, offset=(0,0,0), minimum_z_height=minimum_z_height)\n",
    "\n",
    "    # wait for 15 minutes \n",
    "    #time.sleep(15*60)"
   ]
  },
  {
   "cell_type": "code",
   "execution_count": null,
   "metadata": {},
   "outputs": [],
   "source": []
  },
  {
   "cell_type": "markdown",
   "metadata": {},
   "source": [
    "# Add Secondary "
   ]
  },
  {
   "cell_type": "code",
   "execution_count": 64,
   "metadata": {},
   "outputs": [
    {
     "name": "stdout",
     "output_type": "stream",
     "text": [
      "My pipette number: 3and type: <class 'int'>\n",
      "<class 'int'>\n",
      "Moving to: (301, 109, 130.885)\n",
      "Moving to: (361, 360, 55)\n",
      "Moving to: (14.21, 337.65, 5.949999999999996)\n",
      "Moving to: (301, 109, 130.885)\n",
      "Moving to: (100, 100, 150)\n"
     ]
    }
   ],
   "source": [
    "# move the wellplate to the zero position with the microscope\n",
    "microscope.move(home_position_microscope, absolute=True)\n",
    "\n",
    "# 1. Pickup new pipette\n",
    "i_pipette = pickup_fresh_pipette_tip(i_pipette, pipette, tiprack, offset_pipette_rack)\n",
    "\n",
    "print(type(i_pipette))\n",
    "V_aspirate = 40\n",
    "        \n",
    "# first go to sample and pickup liquid \n",
    "move_to_coord(pipette, sample_position_15welplate, offset=(0,0,0), minimum_z_height=minimum_z_height)\n",
    "pipette.aspirate()\n",
    "\n",
    "# 3. Trash the liquid\n",
    "move_to_coord(pipette, position_trash, offset=(offset_x_reagents,offset_y_reagents,offset_z_reagents+10), minimum_z_height=minimum_z_height)\n",
    "pipette.dispense()\n",
    "                \n",
    "\n",
    "# 4- Pickup Primary and bring it to sample         \n",
    "position_reagent_i = np.array(plate_reagents.wells()[i_ab_secondary].center()._point)\n",
    "move_to_coord(pipette, position_reagent_i, offset=(offset_x_reagents,offset_y_reagents,offset_z_reagents), minimum_z_height=minimum_z_height)\n",
    "pipette.aspirate(V_aspirate)\n",
    "\n",
    "# 5. Go to sample and add Secondary \n",
    "move_to_coord(pipette, sample_position_15welplate, offset=(0,0,0), minimum_z_height=minimum_z_height)\n",
    "pipette.dispense()\n",
    "\n",
    "# go to idle positoin and rest\n",
    "move_to_coord(pipette, position_idle, offset=(0,0,0), minimum_z_height=minimum_z_height)\n",
    "\n",
    "# wait for 15 minutes \n",
    "#time.sleep(60*60)"
   ]
  },
  {
   "cell_type": "markdown",
   "metadata": {},
   "source": [
    "# Wash 3x with PBS"
   ]
  },
  {
   "cell_type": "code",
   "execution_count": 65,
   "metadata": {},
   "outputs": [
    {
     "name": "stdout",
     "output_type": "stream",
     "text": [
      "Moving to: (301, 109, 130.885)\n",
      "Moving to: (361, 360, 55)\n",
      "Moving to: (14.21, 318.37, 5.949999999999996)\n",
      "Moving to: (301, 109, 130.885)\n",
      "Moving to: (301, 109, 130.885)\n",
      "Moving to: (361, 360, 55)\n",
      "Moving to: (14.21, 318.37, 5.949999999999996)\n",
      "Moving to: (301, 109, 130.885)\n",
      "Moving to: (301, 109, 130.885)\n",
      "Moving to: (361, 360, 55)\n",
      "Moving to: (14.21, 318.37, 5.949999999999996)\n",
      "Moving to: (301, 109, 130.885)\n",
      "Moving to: (100, 100, 150)\n"
     ]
    }
   ],
   "source": [
    "# move the wellplate to the zero position with the microscope\n",
    "microscope.move(home_position_microscope, absolute=True)\n",
    "\n",
    "# 1. Pickup new pipette\n",
    "#i_pipette = pickup_fresh_pipette_tip(i_pipette, pipette, tiprack, offset_pipette_rack)\n",
    "V_aspirate = 40\n",
    "\n",
    "for _ in range(3):\n",
    "    # first go to sample and pickup liquid \n",
    "    move_to_coord(pipette, sample_position_15welplate, offset=(0,0,0), minimum_z_height=minimum_z_height)\n",
    "    pipette.aspirate()\n",
    "\n",
    "    # 3. Trash the liquid\n",
    "    move_to_coord(pipette, position_trash, offset=(offset_x_reagents,offset_y_reagents,offset_z_reagents+10), minimum_z_height=minimum_z_height)\n",
    "    pipette.dispense()\n",
    "\n",
    "\n",
    "    # 4- Pickup Primary and bring it to sample         \n",
    "    position_reagent_i = np.array(plate_reagents.wells()[i_pbs].center()._point)\n",
    "    move_to_coord(pipette, position_reagent_i, offset=(offset_x_reagents,offset_y_reagents,offset_z_reagents), minimum_z_height=minimum_z_height)\n",
    "    pipette.aspirate(V_aspirate)\n",
    "\n",
    "    # 5. Go to sample and add PBS \n",
    "    move_to_coord(pipette, sample_position_15welplate, offset=(0,0,0), minimum_z_height=minimum_z_height)\n",
    "    pipette.dispense()\n",
    "\n",
    "\n",
    "# go to idle positoin and rest\n",
    "move_to_coord(pipette, position_idle, offset=(0,0,0), minimum_z_height=minimum_z_height)\n",
    "\n",
    "    # wait for 15 minutes \n",
    "    #time.sleep(15*60)"
   ]
  },
  {
   "cell_type": "markdown",
   "metadata": {},
   "source": [
    "# Do timelapse"
   ]
  },
  {
   "cell_type": "code",
   "execution_count": 66,
   "metadata": {},
   "outputs": [],
   "source": [
    "# Microscope coordinates\n",
    "\n",
    "mytime = time.time()\n",
    "t_duration = 20 # minutes\n",
    "focus_pos_list = None # start with a fresh list\n",
    "Nx=5\n",
    "Ny=5\n",
    "well_to_well_steps= 500\n",
    "t_duration = 60 # how long does the experiment preform?\n",
    "t_period = 1 # min - how often should the expimrent be carried out?\n",
    "\n",
    "##\n",
    "mytime = -1\n",
    "while (time.time()-mytime)<(t_secondary*60):\n",
    "    mytime = time.time()\n",
    "    if time.time()-mytime2>t_period:\n",
    "        mytime2=time.time()\n",
    "    \n",
    "        if focus_pos_list is None or (i_experiment % 30)==0:\n",
    "            is_autofocus=True\n",
    "        else:\n",
    "            is_autofocus=False\n",
    "\n",
    "        # perform a testing well scan by moving robot to light position and do a whole plate scan\n",
    "        move_to_coord(pipette_8, position_sample_light, offset=(0,0,0), minimum_z_height=minimum_z_height)\n",
    "        focus_pos_list = wellscan(microscope, offset_x, offset_y, i_experiment,\n",
    "                Nx, Ny, well_to_well_steps,\n",
    "                autofocus_dz, autofocus_Nz,\n",
    "                    name_experiment=\"wellscan_aftersecondary_\"+timestamp,\n",
    "                    focus_pos_list=focus_pos_list, is_autofocus=is_autofocus,\n",
    "                    is_autofocus_fine = False, \n",
    "                    is_autofocus_fast = False,\n",
    "                    I_laser=0, I_led=1)\n",
    "        i_experiment += 1"
   ]
  },
  {
   "cell_type": "code",
   "execution_count": 67,
   "metadata": {},
   "outputs": [],
   "source": [
    "# Microscope coordinates\n",
    "\n",
    "mytime = time.time()\n",
    "t_duration = 20 # minutes\n",
    "focus_pos_list = None # start with a fresh list\n",
    "Nx=5\n",
    "Ny=5\n",
    "well_to_well_steps= 500\n",
    "t_duration = 60 # how long does the experiment preform?\n",
    "t_period = 1 # min - how often should the expimrent be carried out?\n",
    "\n",
    "##\n",
    "mytime = -1\n",
    "while (time.time()-mytime)<(t_fluo*60):\n",
    "    mytime = time.time()\n",
    "    if time.time()-mytime2>t_period:\n",
    "        mytime2=time.time()\n",
    "    \n",
    "        if focus_pos_list is None or (i_experiment % 30)==0:\n",
    "            is_autofocus=True\n",
    "        else:\n",
    "            is_autofocus=False\n",
    "\n",
    "        # perform a testing well scan by moving robot to light position and do a whole plate scan\n",
    "        move_to_coord(pipette, position_idle, offset=(0,0,0), minimum_z_height=minimum_z_height)\n",
    "        focus_pos_list = wellscan(microscope, offset_x, offset_y, i_experiment,\n",
    "                Nx, Ny, well_to_well_steps,\n",
    "                autofocus_dz, autofocus_Nz,\n",
    "                    name_experiment=\"wellscan_aftersecondary_\"+timestamp,\n",
    "                    focus_pos_list=focus_pos_list, is_autofocus=is_autofocus,\n",
    "                    is_autofocus_fine = False, \n",
    "                    is_autofocus_fast = False,\n",
    "                    I_laser=0, I_led=1)\n",
    "        i_experiment += 1"
   ]
  },
  {
   "cell_type": "code",
   "execution_count": 68,
   "metadata": {},
   "outputs": [
    {
     "name": "stdout",
     "output_type": "stream",
     "text": [
      "Start moving to the position\n",
      "Start scan\n",
      "Move microscope to (XY): 4440/6500\n",
      "ERROR make sure the correct laser itnensity is assigned!\n",
      "Focusing: {'dz': [-2000.0, -1714.2857142857142, -1428.5714285714284, -1142.857142857143, -857.1428571428571, -571.4285714285713, -285.7142857142858, 0.0, 285.7142857142858, 571.4285714285716, 857.1428571428573, 1142.8571428571431, 1428.5714285714284, 1714.2857142857142, 2000.0]}\n"
     ]
    },
    {
     "ename": "KeyboardInterrupt",
     "evalue": "",
     "output_type": "error",
     "traceback": [
      "\u001b[0;31m---------------------------------------------------------------------------\u001b[0m",
      "\u001b[0;31mKeyboardInterrupt\u001b[0m                         Traceback (most recent call last)",
      "\u001b[0;32m<ipython-input-68-1a0abe6635c5>\u001b[0m in \u001b[0;36m<module>\u001b[0;34m()\u001b[0m\n\u001b[1;32m     25\u001b[0m                     \u001b[0mis_autofocus_fine\u001b[0m \u001b[0;34m=\u001b[0m \u001b[0;32mFalse\u001b[0m\u001b[0;34m,\u001b[0m\u001b[0;34m\u001b[0m\u001b[0;34m\u001b[0m\u001b[0m\n\u001b[1;32m     26\u001b[0m                     \u001b[0mis_autofocus_fast\u001b[0m \u001b[0;34m=\u001b[0m \u001b[0;32mFalse\u001b[0m\u001b[0;34m,\u001b[0m\u001b[0;34m\u001b[0m\u001b[0;34m\u001b[0m\u001b[0m\n\u001b[0;32m---> 27\u001b[0;31m                     I_laser=0, I_led=1)\n\u001b[0m",
      "\u001b[0;32m/var/lib/jupyter/notebooks/opentrons_helper.py\u001b[0m in \u001b[0;36mwellscan\u001b[0;34m(microscope, offset_x, offset_y, i_experiment, Nx, Ny, well_to_well_steps, autofocus_dz, autofocus_Nz, name_experiment, focus_pos_list, is_autofocus, is_autofocus_fine, is_autofocus_fast, I_laser, I_led)\u001b[0m\n\u001b[1;32m    114\u001b[0m                     \u001b[0moffset_z\u001b[0m \u001b[0;34m=\u001b[0m \u001b[0mmicroscope\u001b[0m\u001b[0;34m.\u001b[0m\u001b[0mautofocus_fast\u001b[0m\u001b[0;34m(\u001b[0m\u001b[0mautofocus_dz\u001b[0m\u001b[0;34m)\u001b[0m\u001b[0;34m\u001b[0m\u001b[0;34m\u001b[0m\u001b[0m\n\u001b[1;32m    115\u001b[0m                 \u001b[0;32melse\u001b[0m\u001b[0;34m:\u001b[0m\u001b[0;34m\u001b[0m\u001b[0;34m\u001b[0m\u001b[0m\n\u001b[0;32m--> 116\u001b[0;31m                     \u001b[0moffset_z\u001b[0m \u001b[0;34m=\u001b[0m \u001b[0mmicroscope\u001b[0m\u001b[0;34m.\u001b[0m\u001b[0mautofocus_coarse\u001b[0m\u001b[0;34m(\u001b[0m\u001b[0mdz\u001b[0m\u001b[0;34m=\u001b[0m\u001b[0mautofocus_dz\u001b[0m\u001b[0;34m,\u001b[0m \u001b[0mnz\u001b[0m\u001b[0;34m=\u001b[0m\u001b[0mautofocus_Nz\u001b[0m\u001b[0;34m,\u001b[0m \u001b[0mis_uselight\u001b[0m\u001b[0;34m=\u001b[0m\u001b[0;32mTrue\u001b[0m\u001b[0;34m)\u001b[0m\u001b[0;34m\u001b[0m\u001b[0;34m\u001b[0m\u001b[0m\n\u001b[0m\u001b[1;32m    117\u001b[0m \u001b[0;34m\u001b[0m\u001b[0m\n\u001b[1;32m    118\u001b[0m \u001b[0;34m\u001b[0m\u001b[0m\n",
      "\u001b[0;32m/var/lib/jupyter/notebooks/microscope_client.py\u001b[0m in \u001b[0;36mautofocus_coarse\u001b[0;34m(self, dz, nz, is_uselight)\u001b[0m\n\u001b[1;32m    225\u001b[0m         \u001b[0mpayload\u001b[0m \u001b[0;34m=\u001b[0m \u001b[0;34m{\u001b[0m\u001b[0;34m'dz'\u001b[0m\u001b[0;34m:\u001b[0m \u001b[0mlist\u001b[0m\u001b[0;34m(\u001b[0m\u001b[0mnp\u001b[0m\u001b[0;34m.\u001b[0m\u001b[0mlinspace\u001b[0m\u001b[0;34m(\u001b[0m\u001b[0;34m-\u001b[0m\u001b[0mdz\u001b[0m\u001b[0;34m,\u001b[0m\u001b[0mdz\u001b[0m\u001b[0;34m,\u001b[0m\u001b[0mnz\u001b[0m\u001b[0;34m)\u001b[0m\u001b[0;34m)\u001b[0m\u001b[0;34m}\u001b[0m\u001b[0;34m\u001b[0m\u001b[0;34m\u001b[0m\u001b[0m\n\u001b[1;32m    226\u001b[0m         \u001b[0mprint\u001b[0m\u001b[0;34m(\u001b[0m\u001b[0;34m\"Focusing: \"\u001b[0m\u001b[0;34m+\u001b[0m\u001b[0mstr\u001b[0m\u001b[0;34m(\u001b[0m\u001b[0mpayload\u001b[0m\u001b[0;34m)\u001b[0m\u001b[0;34m)\u001b[0m\u001b[0;34m\u001b[0m\u001b[0;34m\u001b[0m\u001b[0m\n\u001b[0;32m--> 227\u001b[0;31m         \u001b[0mself\u001b[0m\u001b[0;34m.\u001b[0m\u001b[0mextensions\u001b[0m\u001b[0;34m[\u001b[0m\u001b[0;34m\"org.openflexure.autofocus\"\u001b[0m\u001b[0;34m]\u001b[0m\u001b[0;34m[\u001b[0m\u001b[0;34m\"autofocus\"\u001b[0m\u001b[0;34m]\u001b[0m\u001b[0;34m.\u001b[0m\u001b[0mpost_json\u001b[0m\u001b[0;34m(\u001b[0m\u001b[0mpayload\u001b[0m\u001b[0;34m)\u001b[0m\u001b[0;34m\u001b[0m\u001b[0;34m\u001b[0m\u001b[0m\n\u001b[0m\u001b[1;32m    228\u001b[0m         \u001b[0;32mif\u001b[0m \u001b[0mis_uselight\u001b[0m\u001b[0;34m:\u001b[0m\u001b[0;34m\u001b[0m\u001b[0;34m\u001b[0m\u001b[0m\n\u001b[1;32m    229\u001b[0m             \u001b[0mself\u001b[0m\u001b[0;34m.\u001b[0m\u001b[0mset_laser_led\u001b[0m\u001b[0;34m(\u001b[0m\u001b[0;36m0\u001b[0m\u001b[0;34m,\u001b[0m\u001b[0;36m0\u001b[0m\u001b[0;34m)\u001b[0m\u001b[0;34m\u001b[0m\u001b[0;34m\u001b[0m\u001b[0m\n",
      "\u001b[0;32m/var/lib/jupyter/notebooks/microscope_client.py\u001b[0m in \u001b[0;36mpost_json\u001b[0;34m(self, payload, wait_on_task)\u001b[0m\n\u001b[1;32m    297\u001b[0m             \u001b[0mwait_on_task\u001b[0m \u001b[0;34m=\u001b[0m \u001b[0mis_a_task\u001b[0m\u001b[0;34m(\u001b[0m\u001b[0mr\u001b[0m\u001b[0;34m)\u001b[0m\u001b[0;34m\u001b[0m\u001b[0;34m\u001b[0m\u001b[0m\n\u001b[1;32m    298\u001b[0m         \u001b[0;32mif\u001b[0m \u001b[0mwait_on_task\u001b[0m\u001b[0;34m:\u001b[0m\u001b[0;34m\u001b[0m\u001b[0;34m\u001b[0m\u001b[0m\n\u001b[0;32m--> 299\u001b[0;31m             \u001b[0;32mreturn\u001b[0m \u001b[0mpoll_task\u001b[0m\u001b[0;34m(\u001b[0m\u001b[0mr\u001b[0m\u001b[0;34m)\u001b[0m\u001b[0;34m\u001b[0m\u001b[0;34m\u001b[0m\u001b[0m\n\u001b[0m\u001b[1;32m    300\u001b[0m         \u001b[0;32melse\u001b[0m\u001b[0;34m:\u001b[0m\u001b[0;34m\u001b[0m\u001b[0;34m\u001b[0m\u001b[0m\n\u001b[1;32m    301\u001b[0m             \u001b[0;32mreturn\u001b[0m \u001b[0mr\u001b[0m\u001b[0;34m\u001b[0m\u001b[0;34m\u001b[0m\u001b[0m\n",
      "\u001b[0;32m/var/lib/jupyter/notebooks/microscope_client.py\u001b[0m in \u001b[0;36mpoll_task\u001b[0;34m(task)\u001b[0m\n\u001b[1;32m    319\u001b[0m     \u001b[0mlog_n\u001b[0m \u001b[0;34m=\u001b[0m \u001b[0;36m0\u001b[0m\u001b[0;34m\u001b[0m\u001b[0;34m\u001b[0m\u001b[0m\n\u001b[1;32m    320\u001b[0m     \u001b[0;32mwhile\u001b[0m \u001b[0mtask\u001b[0m\u001b[0;34m[\u001b[0m\u001b[0;34m\"status\"\u001b[0m\u001b[0;34m]\u001b[0m \u001b[0;32min\u001b[0m \u001b[0mACTION_RUNNING_KEYWORDS\u001b[0m\u001b[0;34m:\u001b[0m\u001b[0;34m\u001b[0m\u001b[0;34m\u001b[0m\u001b[0m\n\u001b[0;32m--> 321\u001b[0;31m         \u001b[0mr\u001b[0m \u001b[0;34m=\u001b[0m \u001b[0mrequests\u001b[0m\u001b[0;34m.\u001b[0m\u001b[0mget\u001b[0m\u001b[0;34m(\u001b[0m\u001b[0mtask_href\u001b[0m\u001b[0;34m(\u001b[0m\u001b[0mtask\u001b[0m\u001b[0;34m)\u001b[0m\u001b[0;34m)\u001b[0m\u001b[0;34m\u001b[0m\u001b[0;34m\u001b[0m\u001b[0m\n\u001b[0m\u001b[1;32m    322\u001b[0m         \u001b[0mr\u001b[0m\u001b[0;34m.\u001b[0m\u001b[0mraise_for_status\u001b[0m\u001b[0;34m(\u001b[0m\u001b[0;34m)\u001b[0m\u001b[0;34m\u001b[0m\u001b[0;34m\u001b[0m\u001b[0m\n\u001b[1;32m    323\u001b[0m         \u001b[0mtask\u001b[0m \u001b[0;34m=\u001b[0m \u001b[0mr\u001b[0m\u001b[0;34m.\u001b[0m\u001b[0mjson\u001b[0m\u001b[0;34m(\u001b[0m\u001b[0;34m)\u001b[0m\u001b[0;34m\u001b[0m\u001b[0;34m\u001b[0m\u001b[0m\n",
      "\u001b[0;32m/var/user-packages/usr/lib/python3.7/site-packages/requests/api.py\u001b[0m in \u001b[0;36mget\u001b[0;34m(url, params, **kwargs)\u001b[0m\n\u001b[1;32m     74\u001b[0m \u001b[0;34m\u001b[0m\u001b[0m\n\u001b[1;32m     75\u001b[0m     \u001b[0mkwargs\u001b[0m\u001b[0;34m.\u001b[0m\u001b[0msetdefault\u001b[0m\u001b[0;34m(\u001b[0m\u001b[0;34m'allow_redirects'\u001b[0m\u001b[0;34m,\u001b[0m \u001b[0;32mTrue\u001b[0m\u001b[0;34m)\u001b[0m\u001b[0;34m\u001b[0m\u001b[0;34m\u001b[0m\u001b[0m\n\u001b[0;32m---> 76\u001b[0;31m     \u001b[0;32mreturn\u001b[0m \u001b[0mrequest\u001b[0m\u001b[0;34m(\u001b[0m\u001b[0;34m'get'\u001b[0m\u001b[0;34m,\u001b[0m \u001b[0murl\u001b[0m\u001b[0;34m,\u001b[0m \u001b[0mparams\u001b[0m\u001b[0;34m=\u001b[0m\u001b[0mparams\u001b[0m\u001b[0;34m,\u001b[0m \u001b[0;34m**\u001b[0m\u001b[0mkwargs\u001b[0m\u001b[0;34m)\u001b[0m\u001b[0;34m\u001b[0m\u001b[0;34m\u001b[0m\u001b[0m\n\u001b[0m\u001b[1;32m     77\u001b[0m \u001b[0;34m\u001b[0m\u001b[0m\n\u001b[1;32m     78\u001b[0m \u001b[0;34m\u001b[0m\u001b[0m\n",
      "\u001b[0;32m/var/user-packages/usr/lib/python3.7/site-packages/requests/api.py\u001b[0m in \u001b[0;36mrequest\u001b[0;34m(method, url, **kwargs)\u001b[0m\n\u001b[1;32m     59\u001b[0m     \u001b[0;31m# cases, and look like a memory leak in others.\u001b[0m\u001b[0;34m\u001b[0m\u001b[0;34m\u001b[0m\u001b[0;34m\u001b[0m\u001b[0m\n\u001b[1;32m     60\u001b[0m     \u001b[0;32mwith\u001b[0m \u001b[0msessions\u001b[0m\u001b[0;34m.\u001b[0m\u001b[0mSession\u001b[0m\u001b[0;34m(\u001b[0m\u001b[0;34m)\u001b[0m \u001b[0;32mas\u001b[0m \u001b[0msession\u001b[0m\u001b[0;34m:\u001b[0m\u001b[0;34m\u001b[0m\u001b[0;34m\u001b[0m\u001b[0m\n\u001b[0;32m---> 61\u001b[0;31m         \u001b[0;32mreturn\u001b[0m \u001b[0msession\u001b[0m\u001b[0;34m.\u001b[0m\u001b[0mrequest\u001b[0m\u001b[0;34m(\u001b[0m\u001b[0mmethod\u001b[0m\u001b[0;34m=\u001b[0m\u001b[0mmethod\u001b[0m\u001b[0;34m,\u001b[0m \u001b[0murl\u001b[0m\u001b[0;34m=\u001b[0m\u001b[0murl\u001b[0m\u001b[0;34m,\u001b[0m \u001b[0;34m**\u001b[0m\u001b[0mkwargs\u001b[0m\u001b[0;34m)\u001b[0m\u001b[0;34m\u001b[0m\u001b[0;34m\u001b[0m\u001b[0m\n\u001b[0m\u001b[1;32m     62\u001b[0m \u001b[0;34m\u001b[0m\u001b[0m\n\u001b[1;32m     63\u001b[0m \u001b[0;34m\u001b[0m\u001b[0m\n",
      "\u001b[0;32m/var/user-packages/usr/lib/python3.7/site-packages/requests/sessions.py\u001b[0m in \u001b[0;36mrequest\u001b[0;34m(self, method, url, params, data, headers, cookies, files, auth, timeout, allow_redirects, proxies, hooks, stream, verify, cert, json)\u001b[0m\n\u001b[1;32m    531\u001b[0m \u001b[0;34m\u001b[0m\u001b[0m\n\u001b[1;32m    532\u001b[0m         settings = self.merge_environment_settings(\n\u001b[0;32m--> 533\u001b[0;31m             \u001b[0mprep\u001b[0m\u001b[0;34m.\u001b[0m\u001b[0murl\u001b[0m\u001b[0;34m,\u001b[0m \u001b[0mproxies\u001b[0m\u001b[0;34m,\u001b[0m \u001b[0mstream\u001b[0m\u001b[0;34m,\u001b[0m \u001b[0mverify\u001b[0m\u001b[0;34m,\u001b[0m \u001b[0mcert\u001b[0m\u001b[0;34m\u001b[0m\u001b[0;34m\u001b[0m\u001b[0m\n\u001b[0m\u001b[1;32m    534\u001b[0m         )\n\u001b[1;32m    535\u001b[0m \u001b[0;34m\u001b[0m\u001b[0m\n",
      "\u001b[0;32m/var/user-packages/usr/lib/python3.7/site-packages/requests/sessions.py\u001b[0m in \u001b[0;36mmerge_environment_settings\u001b[0;34m(self, url, proxies, stream, verify, cert)\u001b[0m\n\u001b[1;32m    709\u001b[0m             \u001b[0;31m# Set environment's proxies.\u001b[0m\u001b[0;34m\u001b[0m\u001b[0;34m\u001b[0m\u001b[0;34m\u001b[0m\u001b[0m\n\u001b[1;32m    710\u001b[0m             \u001b[0mno_proxy\u001b[0m \u001b[0;34m=\u001b[0m \u001b[0mproxies\u001b[0m\u001b[0;34m.\u001b[0m\u001b[0mget\u001b[0m\u001b[0;34m(\u001b[0m\u001b[0;34m'no_proxy'\u001b[0m\u001b[0;34m)\u001b[0m \u001b[0;32mif\u001b[0m \u001b[0mproxies\u001b[0m \u001b[0;32mis\u001b[0m \u001b[0;32mnot\u001b[0m \u001b[0;32mNone\u001b[0m \u001b[0;32melse\u001b[0m \u001b[0;32mNone\u001b[0m\u001b[0;34m\u001b[0m\u001b[0;34m\u001b[0m\u001b[0m\n\u001b[0;32m--> 711\u001b[0;31m             \u001b[0menv_proxies\u001b[0m \u001b[0;34m=\u001b[0m \u001b[0mget_environ_proxies\u001b[0m\u001b[0;34m(\u001b[0m\u001b[0murl\u001b[0m\u001b[0;34m,\u001b[0m \u001b[0mno_proxy\u001b[0m\u001b[0;34m=\u001b[0m\u001b[0mno_proxy\u001b[0m\u001b[0;34m)\u001b[0m\u001b[0;34m\u001b[0m\u001b[0;34m\u001b[0m\u001b[0m\n\u001b[0m\u001b[1;32m    712\u001b[0m             \u001b[0;32mfor\u001b[0m \u001b[0;34m(\u001b[0m\u001b[0mk\u001b[0m\u001b[0;34m,\u001b[0m \u001b[0mv\u001b[0m\u001b[0;34m)\u001b[0m \u001b[0;32min\u001b[0m \u001b[0menv_proxies\u001b[0m\u001b[0;34m.\u001b[0m\u001b[0mitems\u001b[0m\u001b[0;34m(\u001b[0m\u001b[0;34m)\u001b[0m\u001b[0;34m:\u001b[0m\u001b[0;34m\u001b[0m\u001b[0;34m\u001b[0m\u001b[0m\n\u001b[1;32m    713\u001b[0m                 \u001b[0mproxies\u001b[0m\u001b[0;34m.\u001b[0m\u001b[0msetdefault\u001b[0m\u001b[0;34m(\u001b[0m\u001b[0mk\u001b[0m\u001b[0;34m,\u001b[0m \u001b[0mv\u001b[0m\u001b[0;34m)\u001b[0m\u001b[0;34m\u001b[0m\u001b[0;34m\u001b[0m\u001b[0m\n",
      "\u001b[0;32m/var/user-packages/usr/lib/python3.7/site-packages/requests/utils.py\u001b[0m in \u001b[0;36mget_environ_proxies\u001b[0;34m(url, no_proxy)\u001b[0m\n\u001b[1;32m    774\u001b[0m     \u001b[0;34m:\u001b[0m\u001b[0mrtype\u001b[0m\u001b[0;34m:\u001b[0m \u001b[0mdict\u001b[0m\u001b[0;34m\u001b[0m\u001b[0;34m\u001b[0m\u001b[0m\n\u001b[1;32m    775\u001b[0m     \"\"\"\n\u001b[0;32m--> 776\u001b[0;31m     \u001b[0;32mif\u001b[0m \u001b[0mshould_bypass_proxies\u001b[0m\u001b[0;34m(\u001b[0m\u001b[0murl\u001b[0m\u001b[0;34m,\u001b[0m \u001b[0mno_proxy\u001b[0m\u001b[0;34m=\u001b[0m\u001b[0mno_proxy\u001b[0m\u001b[0;34m)\u001b[0m\u001b[0;34m:\u001b[0m\u001b[0;34m\u001b[0m\u001b[0;34m\u001b[0m\u001b[0m\n\u001b[0m\u001b[1;32m    777\u001b[0m         \u001b[0;32mreturn\u001b[0m \u001b[0;34m{\u001b[0m\u001b[0;34m}\u001b[0m\u001b[0;34m\u001b[0m\u001b[0;34m\u001b[0m\u001b[0m\n\u001b[1;32m    778\u001b[0m     \u001b[0;32melse\u001b[0m\u001b[0;34m:\u001b[0m\u001b[0;34m\u001b[0m\u001b[0;34m\u001b[0m\u001b[0m\n",
      "\u001b[0;32m/var/user-packages/usr/lib/python3.7/site-packages/requests/utils.py\u001b[0m in \u001b[0;36mshould_bypass_proxies\u001b[0;34m(url, no_proxy)\u001b[0m\n\u001b[1;32m    758\u001b[0m         \u001b[0;31m# parsed.hostname can be `None` in cases such as a file URI.\u001b[0m\u001b[0;34m\u001b[0m\u001b[0;34m\u001b[0m\u001b[0;34m\u001b[0m\u001b[0m\n\u001b[1;32m    759\u001b[0m         \u001b[0;32mtry\u001b[0m\u001b[0;34m:\u001b[0m\u001b[0;34m\u001b[0m\u001b[0;34m\u001b[0m\u001b[0m\n\u001b[0;32m--> 760\u001b[0;31m             \u001b[0mbypass\u001b[0m \u001b[0;34m=\u001b[0m \u001b[0mproxy_bypass\u001b[0m\u001b[0;34m(\u001b[0m\u001b[0mparsed\u001b[0m\u001b[0;34m.\u001b[0m\u001b[0mhostname\u001b[0m\u001b[0;34m)\u001b[0m\u001b[0;34m\u001b[0m\u001b[0;34m\u001b[0m\u001b[0m\n\u001b[0m\u001b[1;32m    761\u001b[0m         \u001b[0;32mexcept\u001b[0m \u001b[0;34m(\u001b[0m\u001b[0mTypeError\u001b[0m\u001b[0;34m,\u001b[0m \u001b[0msocket\u001b[0m\u001b[0;34m.\u001b[0m\u001b[0mgaierror\u001b[0m\u001b[0;34m)\u001b[0m\u001b[0;34m:\u001b[0m\u001b[0;34m\u001b[0m\u001b[0;34m\u001b[0m\u001b[0m\n\u001b[1;32m    762\u001b[0m             \u001b[0mbypass\u001b[0m \u001b[0;34m=\u001b[0m \u001b[0;32mFalse\u001b[0m\u001b[0;34m\u001b[0m\u001b[0;34m\u001b[0m\u001b[0m\n",
      "\u001b[0;32m/usr/lib/python3.7/urllib/request.pyc\u001b[0m in \u001b[0;36mproxy_bypass_environment\u001b[0;34m(host, proxies)\u001b[0m\n",
      "\u001b[0;32m/usr/lib/python3.7/urllib/request.pyc\u001b[0m in \u001b[0;36mgetproxies_environment\u001b[0;34m()\u001b[0m\n",
      "\u001b[0;32m/usr/lib/python3.7/_collections_abc.pyc\u001b[0m in \u001b[0;36m__iter__\u001b[0;34m(self)\u001b[0m\n",
      "\u001b[0;31mKeyboardInterrupt\u001b[0m: "
     ]
    }
   ],
   "source": []
  },
  {
   "cell_type": "code",
   "execution_count": null,
   "metadata": {},
   "outputs": [],
   "source": []
  }
 ],
 "metadata": {
  "kernelspec": {
   "display_name": "Python 3",
   "language": "python",
   "name": "python3"
  },
  "language_info": {
   "codemirror_mode": {
    "name": "ipython",
    "version": 3
   },
   "file_extension": ".py",
   "mimetype": "text/x-python",
   "name": "python",
   "nbconvert_exporter": "python",
   "pygments_lexer": "ipython3",
   "version": "3.7.1"
  }
 },
 "nbformat": 4,
 "nbformat_minor": 2
}
