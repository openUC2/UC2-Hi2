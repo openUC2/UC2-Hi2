{
 "cells": [
  {
   "cell_type": "code",
   "execution_count": 2,
   "metadata": {},
   "outputs": [],
   "source": [
    "%load_ext autoreload\n",
    "%autoreload 2\n",
    "\n",
    "# organize the imports\n",
    "import opentrons.execute\n",
    "from opentrons import types \n",
    "import time\n",
    "import numpy as np\n",
    "import opentrons\n",
    "from  opentrons.types import Location, Point\n",
    "\n",
    "from opentrons_helper import * "
   ]
  },
  {
   "cell_type": "code",
   "execution_count": 3,
   "metadata": {},
   "outputs": [],
   "source": [
    "'''\n",
    "Connect to the microscope \n",
    "'''\n",
    "\n",
    "from microscope_client import MicroscopeClient \n",
    "microscope = MicroscopeClient(host=\"21.3.2.3\", port=5000)\n",
    "#!pip3 install zeroconf\n",
    "#!pip3 install requests\n"
   ]
  },
  {
   "cell_type": "code",
   "execution_count": 6,
   "metadata": {},
   "outputs": [
    {
     "name": "stderr",
     "output_type": "stream",
     "text": [
      "WARNING:opentrons.hardware_control.util:Out of bounds move: X=(418.00000000000006 motor controller, 419.5412429817696 deck) too high for limit 418.0\n",
      "WARNING:opentrons.hardware_control.util:Out of bounds move: X=(418.00000000000006 motor controller, 419.5412429817696 deck) too high for limit 418.0\n"
     ]
    }
   ],
   "source": [
    "# Connect to the opentrons robot\n",
    "protocol = opentrons.execute.get_protocol_api('2.10')\n",
    "protocol.home()\n",
    "\n",
    "# setup the pipets\n",
    "pipette = protocol.load_instrument('p300_single_gen2', 'right')\n",
    "pipette_8 = protocol.load_instrument('p300_multi', 'left') # causes errors -> don't use two pipettes!!\n"
   ]
  },
  {
   "cell_type": "code",
   "execution_count": 7,
   "metadata": {},
   "outputs": [
    {
     "name": "stdout",
     "output_type": "stream",
     "text": [
      "No pipette attached\n"
     ]
    },
    {
     "name": "stderr",
     "output_type": "stream",
     "text": [
      "WARNING:opentrons.hardware_control.util:Out of bounds move: X=(418.00000000000006 motor controller, 419.5412429817696 deck) too high for limit 418.0\n"
     ]
    },
    {
     "data": {
      "text/plain": [
       "<InstrumentContext: p300_single_v2.1 in RIGHT>"
      ]
     },
     "execution_count": 7,
     "metadata": {},
     "output_type": "execute_result"
    }
   ],
   "source": [
    "try:\n",
    "    pipette.drop_off()\n",
    "except:\n",
    "    print(\"No pipette attached\")\n",
    "pipette.home()"
   ]
  },
  {
   "cell_type": "code",
   "execution_count": 8,
   "metadata": {},
   "outputs": [
    {
     "ename": "ValueError",
     "evalue": "Deck location 3 already  has an item: <opentrons.protocols.context.protocol_api.labware.LabwareImplementation object at 0x6ed93eb0>",
     "output_type": "error",
     "traceback": [
      "\u001b[0;31m---------------------------------------------------------------------------\u001b[0m",
      "\u001b[0;31mValueError\u001b[0m                                Traceback (most recent call last)",
      "\u001b[0;32m<ipython-input-8-dadfccc51730>\u001b[0m in \u001b[0;36m<module>\u001b[0;34m()\u001b[0m\n\u001b[1;32m     10\u001b[0m \u001b[0;31m# sample plate on microscope\u001b[0m\u001b[0;34m\u001b[0m\u001b[0;34m\u001b[0m\u001b[0;34m\u001b[0m\u001b[0m\n\u001b[1;32m     11\u001b[0m \u001b[0;31m# offset of the well plate in mm\u001b[0m\u001b[0;34m\u001b[0m\u001b[0;34m\u001b[0m\u001b[0;34m\u001b[0m\u001b[0m\n\u001b[0;32m---> 12\u001b[0;31m \u001b[0mplate_sample\u001b[0m \u001b[0;34m=\u001b[0m \u001b[0mprotocol\u001b[0m\u001b[0;34m.\u001b[0m\u001b[0mload_labware\u001b[0m\u001b[0;34m(\u001b[0m\u001b[0;34m'corning_96_wellplate_360ul_flat'\u001b[0m\u001b[0;34m,\u001b[0m \u001b[0mlocation\u001b[0m\u001b[0;34m=\u001b[0m\u001b[0;34m'3'\u001b[0m\u001b[0;34m)\u001b[0m\u001b[0;34m\u001b[0m\u001b[0;34m\u001b[0m\u001b[0m\n\u001b[0m",
      "\u001b[0;32m/usr/lib/python3.7/site-packages/opentrons/protocols/api_support/util.pyc\u001b[0m in \u001b[0;36m_check_version_wrapper\u001b[0;34m(*args, **kwargs)\u001b[0m\n",
      "\u001b[0;32m/usr/lib/python3.7/site-packages/opentrons/protocol_api/protocol_context.pyc\u001b[0m in \u001b[0;36mload_labware\u001b[0;34m(self, load_name, location, label, namespace, version)\u001b[0m\n",
      "\u001b[0;32m/usr/lib/python3.7/site-packages/opentrons/protocols/context/protocol_api/protocol_context.pyc\u001b[0m in \u001b[0;36mload_labware\u001b[0;34m(self, load_name, location, label, namespace, version)\u001b[0m\n",
      "\u001b[0;32m/usr/lib/python3.7/site-packages/opentrons/protocols/context/protocol_api/protocol_context.pyc\u001b[0m in \u001b[0;36mload_labware_from_definition\u001b[0;34m(self, labware_def, location, label)\u001b[0m\n",
      "\u001b[0;32m/usr/lib/python3.7/site-packages/opentrons/protocols/geometry/deck.pyc\u001b[0m in \u001b[0;36m__setitem__\u001b[0;34m(self, key, val)\u001b[0m\n",
      "\u001b[0;31mValueError\u001b[0m: Deck location 3 already  has an item: <opentrons.protocols.context.protocol_api.labware.LabwareImplementation object at 0x6ed93eb0>"
     ]
    }
   ],
   "source": [
    "# setup the labware in the trays\n",
    "plate_microscope = protocol.load_labware('corning_96_wellplate_360ul_flat', location='3')\n",
    "#plate_reagents = protocol.load_labware('corning_24_wellplate_3.4ml_flat', location='9')\n",
    "plate_reagents = protocol.load_labware('opentrons_24_tuberack_eppendorf_1.5ml_safelock_snapcap', location='10')\n",
    "\n",
    "\n",
    "# Move light to the sample \n",
    "tiprack = protocol.load_labware('opentrons_96_tiprack_300ul',location='11')\n",
    "\n",
    "# sample plate on microscope\n",
    "# offset of the well plate in mm\n"
   ]
  },
  {
   "cell_type": "code",
   "execution_count": 9,
   "metadata": {},
   "outputs": [],
   "source": [
    "from opentrons.types import Location, Point\n",
    "\n",
    "# set speed\n",
    "#protocol.max_speeds['X'] = 200 # default = 400\n",
    "#protocol.max_speeds['Y'] = 200 # default = 300\n",
    "\n",
    "# ######\n",
    "# 0 4 8\n",
    "# 1 5 9\n",
    "# 2 6 10 \n",
    "# 3 7 11\n",
    "\n",
    "# wells with reagents\n",
    "i_yeast = 0\n",
    "i_none = 1\n",
    "i_pbs = 2\n",
    "i_bsa = 3\n",
    "\n",
    "\n",
    "# define timig\n",
    "t_bsa = 15\n",
    "t_primary = 60\n",
    "t_secondary = 60\n",
    "t_fluo = 30*0\n",
    "\n",
    "# move it down since opentrons expects the reagents to be furthter away from the ground\n",
    "offset_z_reagents = -65\n",
    "\n",
    "# define locations \n",
    "minimum_z_height = 150 # minimum height for arcs driven by the robot\n",
    "\n",
    "# compute the positions\n",
    "position_trash =  (365,350, 100)\n",
    "\n",
    "position_idle =  (100,100, 150)#"
   ]
  },
  {
   "cell_type": "markdown",
   "metadata": {},
   "source": [
    "# Calibrate\n"
   ]
  },
  {
   "cell_type": "code",
   "execution_count": 11,
   "metadata": {},
   "outputs": [
    {
     "name": "stdout",
     "output_type": "stream",
     "text": [
      "Please add a pipette first!\n",
      "Moving to: (365, 350, 100)\n",
      "Please add a pipette first!\n",
      "Moving to: (100, 100, 150)\n"
     ]
    }
   ],
   "source": [
    "#\n",
    "#pipette.drop_tip()\n",
    "#protocol.home()\n",
    "move_to_coord(pipette, position_trash, offset=(0,0,0), minimum_z_height=minimum_z_height)\n",
    "move_to_coord(pipette, position_idle, offset=(0,0,0), minimum_z_height=minimum_z_height)"
   ]
  },
  {
   "cell_type": "code",
   "execution_count": 14,
   "metadata": {},
   "outputs": [
    {
     "name": "stdout",
     "output_type": "stream",
     "text": [
      "8\n",
      "My pipette number: 8and type: <class 'int'>\n",
      "<class 'int'>\n"
     ]
    }
   ],
   "source": [
    "'''\n",
    "calibrate tiprack\n",
    "'''\n",
    "#protocol.home()\n",
    "i_pipette = 8\n",
    "#pitty, but moving the xy coordinates doesn't work\n",
    "print(i_pipette)\n",
    "offset_pipette_rack=(1,3,0)\n",
    "tiprack.set_calibration(Point(*offset_pipette_rack))\n",
    "\n",
    "i_pipette=pickup_fresh_pipette_tip(i_pipette, pipette, tiprack, offset_pipette_rack=offset_pipette_rack)\n",
    "print(type(i_pipette))"
   ]
  },
  {
   "cell_type": "code",
   "execution_count": 16,
   "metadata": {},
   "outputs": [
    {
     "name": "stdout",
     "output_type": "stream",
     "text": [
      "Please add a pipette first!\n",
      "Moving to: (253, 96, 202)\n"
     ]
    }
   ],
   "source": [
    "'''\n",
    "calibrate illumination poisiton\n",
    "'''\n",
    "time.sleep(2)\n",
    "#protocol.home()\n",
    "#position_idle =  (100,300, 150)#\n",
    "#move_to_coord(pipette, position_idle, offset=(0,0,0), minimum_z_height=minimum_z_height)\n",
    "\n",
    "position_sample_light = (253, 96, 202)\n",
    "offset_x = 3000 # 1290+0*9000\n",
    "offset_y = 35000# -1400+4*9000\n",
    "offset_z = microscope.position[\"z\"]\n",
    "move_to_coord(pipette_8, position_sample_light, offset=(0,0,0), minimum_z_height=minimum_z_height)\n",
    "microscope.set_laser_led(0,0)\n",
    "microscope.move((offset_x,offset_y,offset_z),absolute=True)\n",
    "autofocus_dz = 500\n",
    "autofocus_Nz = 7\n",
    "is_autofocus = False\n",
    "#offset_z = microscope.autofocus_coarse(dz=autofocus_dz, nz=autofocus_Nz)\n",
    "microscope.set_laser_led(0,0)"
   ]
  },
  {
   "cell_type": "code",
   "execution_count": 24,
   "metadata": {},
   "outputs": [
    {
     "name": "stdout",
     "output_type": "stream",
     "text": [
      "[287.38  142.24  133.885]\n",
      "Moving to: (287.38, 142.24, 133.885)\n",
      "[287.38  133.24  133.885]\n",
      "Moving to: (287.38, 133.24, 133.885)\n",
      "[287.38  124.24  133.885]\n",
      "Moving to: (287.38, 124.24000000000001, 133.885)\n",
      "[287.38  115.24  133.885]\n",
      "Moving to: (287.38, 115.24000000000001, 133.885)\n",
      "Moving to: (287.38, 115.24000000000001, 143.885)\n"
     ]
    }
   ],
   "source": [
    "'''\n",
    "Calibrate Wellposition for sample coordinates (96well plate)\n",
    "pipette should dip in the wells on the microscope\n",
    "\n",
    "'''\n",
    "#pipette.home()\n",
    "offset_z = microscope.position[\"z\"]\n",
    "home_position_microscope=(0,0,offset_z)\n",
    "microscope.move((home_position_microscope))\n",
    "\n",
    "minimum_z_height = 150 \n",
    "offset_plate_sample=(-28,68,125)\n",
    "plate_microscope.set_calibration(Point(*offset_plate_sample))\n",
    "\n",
    "\n",
    "for i_pos in range(4):\n",
    "        position_sample_i = np.array(plate_microscope.wells()[i_pos+8*4].center()._point)\n",
    "        print(position_sample_i)\n",
    "        move_to_coord(pipette, position_sample_i, offset=(0,0,0), minimum_z_height=minimum_z_height)\n",
    "move_to_coord(pipette, position_sample_i, offset=(0,0,10), minimum_z_height=minimum_z_height)\n",
    "\n",
    "\n"
   ]
  },
  {
   "cell_type": "code",
   "execution_count": 25,
   "metadata": {},
   "outputs": [
    {
     "name": "stdout",
     "output_type": "stream",
     "text": [
      "Moving to: (14.21, 356.93, 5.949999999999996)\n",
      "Moving to: (14.21, 337.65, 5.949999999999996)\n",
      "Moving to: (14.21, 318.37, 5.949999999999996)\n",
      "Moving to: (14.21, 299.09, 5.949999999999996)\n",
      "Moving to: (18.21, 289.09, 80.94999999999999)\n"
     ]
    }
   ],
   "source": [
    "'''\n",
    "calibrate reagetn slots\n",
    "'''\n",
    "#pipette.home()\n",
    "\n",
    "offset_x_reagents = -4\n",
    "offset_y_reagents = 10\n",
    "offset_z_reagents = -55 # smaller number means: go up\n",
    "for i_pos in range(4):\n",
    "    #i_pipette = pickup_fresh_pipette_tip(i_pipette, pipette, tiprack, -8)\n",
    "    position_reagent_i = np.array(plate_reagents.wells()[i_pos].center()._point)\n",
    "    move_to_coord(pipette, position_reagent_i, offset=(offset_x_reagents,offset_y_reagents,offset_z_reagents), minimum_z_height=minimum_z_height)\n",
    "\n",
    "# move out of the well again\n",
    "move_to_coord(pipette, position_reagent_i, offset=(0,0,20), minimum_z_height=minimum_z_height)\n"
   ]
  },
  {
   "cell_type": "code",
   "execution_count": 26,
   "metadata": {},
   "outputs": [],
   "source": [
    "# initialize strins\n",
    "\n",
    "\n",
    "from datetime import datetime\n",
    "timestamp = datetime.now().strftime(\"%Y_%m_%d-%I-%M-%S_%p\")\n",
    "i_experiment = 0\n"
   ]
  },
  {
   "cell_type": "markdown",
   "metadata": {},
   "source": [
    "# Add Yeast to the cells at different concentrations "
   ]
  },
  {
   "cell_type": "code",
   "execution_count": 30,
   "metadata": {},
   "outputs": [
    {
     "name": "stdout",
     "output_type": "stream",
     "text": [
      "My pipette number: 11and type: <class 'int'>\n",
      "<class 'int'>\n",
      "Moving to: (14.21, 356.93, 5.949999999999996)\n",
      "Moving to: (287.38, 142.24, 133.885)\n",
      "Moving to: (14.21, 356.93, 5.949999999999996)\n",
      "Moving to: (287.38, 133.24, 133.885)\n",
      "Moving to: (14.21, 356.93, 5.949999999999996)\n",
      "Moving to: (287.38, 124.24000000000001, 133.885)\n",
      "Moving to: (14.21, 356.93, 5.949999999999996)\n",
      "Moving to: (287.38, 115.24000000000001, 133.885)\n",
      "Moving to: (14.21, 356.93, 5.949999999999996)\n",
      "Moving to: (287.38, 106.24000000000001, 133.885)\n",
      "Moving to: (14.21, 356.93, 5.949999999999996)\n",
      "Moving to: (287.38, 97.24, 133.885)\n",
      "Moving to: (14.21, 356.93, 5.949999999999996)\n",
      "Moving to: (287.38, 88.24, 133.885)\n",
      "Moving to: (14.21, 356.93, 5.949999999999996)\n",
      "Moving to: (287.38, 79.24, 133.885)\n",
      "Moving to: (14.21, 356.93, 5.949999999999996)\n",
      "Moving to: (296.38, 142.24, 133.885)\n",
      "Moving to: (14.21, 356.93, 5.949999999999996)\n",
      "Moving to: (296.38, 133.24, 133.885)\n",
      "Moving to: (14.21, 356.93, 5.949999999999996)\n",
      "Moving to: (296.38, 124.24000000000001, 133.885)\n",
      "Moving to: (14.21, 356.93, 5.949999999999996)\n",
      "Moving to: (296.38, 115.24000000000001, 133.885)\n",
      "Moving to: (14.21, 356.93, 5.949999999999996)\n",
      "Moving to: (296.38, 106.24000000000001, 133.885)\n",
      "Moving to: (14.21, 356.93, 5.949999999999996)\n",
      "Moving to: (296.38, 97.24, 133.885)\n",
      "Moving to: (14.21, 356.93, 5.949999999999996)\n",
      "Moving to: (296.38, 88.24, 133.885)\n",
      "Moving to: (14.21, 356.93, 5.949999999999996)\n",
      "Moving to: (296.38, 79.24, 133.885)\n",
      "Moving to: (14.21, 356.93, 5.949999999999996)\n",
      "Moving to: (305.38, 142.24, 133.885)\n",
      "Moving to: (14.21, 356.93, 5.949999999999996)\n",
      "Moving to: (305.38, 133.24, 133.885)\n",
      "Moving to: (14.21, 356.93, 5.949999999999996)\n",
      "Moving to: (305.38, 124.24000000000001, 133.885)\n",
      "Moving to: (14.21, 356.93, 5.949999999999996)\n",
      "Moving to: (305.38, 115.24000000000001, 133.885)\n",
      "Moving to: (14.21, 356.93, 5.949999999999996)\n",
      "Moving to: (305.38, 106.24000000000001, 133.885)\n",
      "Moving to: (14.21, 356.93, 5.949999999999996)\n",
      "Moving to: (305.38, 97.24, 133.885)\n",
      "Moving to: (14.21, 356.93, 5.949999999999996)\n",
      "Moving to: (305.38, 88.24, 133.885)\n",
      "Moving to: (14.21, 356.93, 5.949999999999996)\n",
      "Moving to: (305.38, 79.24, 133.885)\n",
      "Moving to: (14.21, 356.93, 5.949999999999996)\n",
      "Moving to: (314.38, 142.24, 133.885)\n",
      "Moving to: (14.21, 356.93, 5.949999999999996)\n",
      "Moving to: (314.38, 133.24, 133.885)\n",
      "Moving to: (14.21, 356.93, 5.949999999999996)\n",
      "Moving to: (314.38, 124.24000000000001, 133.885)\n",
      "Moving to: (14.21, 356.93, 5.949999999999996)\n",
      "Moving to: (314.38, 115.24000000000001, 133.885)\n",
      "Moving to: (14.21, 356.93, 5.949999999999996)\n",
      "Moving to: (314.38, 106.24000000000001, 133.885)\n",
      "Moving to: (14.21, 356.93, 5.949999999999996)\n",
      "Moving to: (314.38, 97.24, 133.885)\n",
      "Moving to: (14.21, 356.93, 5.949999999999996)\n",
      "Moving to: (314.38, 88.24, 133.885)\n",
      "Moving to: (14.21, 356.93, 5.949999999999996)\n",
      "Moving to: (314.38, 79.24, 133.885)\n",
      "Moving to: (14.21, 356.93, 5.949999999999996)\n",
      "Moving to: (323.38, 142.24, 133.885)\n",
      "Moving to: (14.21, 356.93, 5.949999999999996)\n",
      "Moving to: (323.38, 133.24, 133.885)\n",
      "Moving to: (14.21, 356.93, 5.949999999999996)\n",
      "Moving to: (323.38, 124.24000000000001, 133.885)\n",
      "Moving to: (14.21, 356.93, 5.949999999999996)\n",
      "Moving to: (323.38, 115.24000000000001, 133.885)\n",
      "Moving to: (14.21, 356.93, 5.949999999999996)\n",
      "Moving to: (323.38, 106.24000000000001, 133.885)\n",
      "Moving to: (14.21, 356.93, 5.949999999999996)\n",
      "Moving to: (323.38, 97.24, 133.885)\n",
      "Moving to: (14.21, 356.93, 5.949999999999996)\n",
      "Moving to: (323.38, 88.24, 133.885)\n",
      "Moving to: (14.21, 356.93, 5.949999999999996)\n",
      "Moving to: (323.38, 79.24, 133.885)\n",
      "Moving to: (14.21, 356.93, 5.949999999999996)\n",
      "Moving to: (332.38, 142.24, 133.885)\n",
      "Moving to: (14.21, 356.93, 5.949999999999996)\n",
      "Moving to: (332.38, 133.24, 133.885)\n",
      "Moving to: (14.21, 356.93, 5.949999999999996)\n",
      "Moving to: (332.38, 124.24000000000001, 133.885)\n",
      "Moving to: (14.21, 356.93, 5.949999999999996)\n",
      "Moving to: (332.38, 115.24000000000001, 133.885)\n",
      "Moving to: (14.21, 356.93, 5.949999999999996)\n",
      "Moving to: (332.38, 106.24000000000001, 133.885)\n",
      "Moving to: (14.21, 356.93, 5.949999999999996)\n",
      "Moving to: (332.38, 97.24, 133.885)\n",
      "Moving to: (14.21, 356.93, 5.949999999999996)\n",
      "Moving to: (332.38, 88.24, 133.885)\n",
      "Moving to: (14.21, 356.93, 5.949999999999996)\n",
      "Moving to: (332.38, 79.24, 133.885)\n",
      "Moving to: (332.38, 79.24, 143.885)\n"
     ]
    }
   ],
   "source": [
    "# move the wellplate to the zero position with the microscope\n",
    "microscope.move(home_position_microscope, absolute=True)\n",
    "\n",
    "# 1. Pickup new pipette\n",
    "i_pipette = pickup_fresh_pipette_tip(i_pipette, pipette, tiprack, offset_pipette_rack)\n",
    "\n",
    "print(type(i_pipette))\n",
    "V_aspirates = np.int8(40-np.linspace(0,40,8*6))\n",
    "        \n",
    "for i_pos in range(len(V_aspirates)):\n",
    "    # get yeast \n",
    "    position_reagent_i = np.array(plate_reagents.wells()[i_yeast].center()._point)\n",
    "    move_to_coord(pipette, position_reagent_i, offset=(offset_x_reagents,offset_y_reagents,offset_z_reagents), minimum_z_height=minimum_z_height)\n",
    "    pipette.aspirate(V_aspirates[i_pos])\n",
    "    \n",
    "\n",
    "    # add yeast to sample\n",
    "    position_sample_i = np.array(plate_microscope.wells()[8*4+i_pos].center()._point)\n",
    "    move_to_coord(pipette, position_sample_i, offset=(0,0,0), minimum_z_height=minimum_z_height)\n",
    "    pipette.dispense()\n",
    "    pipette.mix(2)\n",
    "    time.sleep(2)\n",
    "move_to_coord(pipette, position_sample_i, offset=(0,0,10), minimum_z_height=minimum_z_height)\n",
    "\n"
   ]
  },
  {
   "cell_type": "code",
   "execution_count": null,
   "metadata": {},
   "outputs": [
    {
     "name": "stdout",
     "output_type": "stream",
     "text": [
      "0\n",
      "Please add a pipette first!\n",
      "Moving to: (253, 96, 202)\n",
      "Start moving to the position\n",
      "Start scan\n",
      "Move microscope to (XY): 2000/35000\n",
      "ERROR make sure the correct laser itnensity is assigned!\n",
      "Focusing: {'dz': [-2000.0, -1500.0, -1000.0, -500.0, 0.0, 500.0, 1000.0, 1500.0, 2000.0]}\n",
      "offset_z:4531\n",
      "Move microscope to (XY): 11000/35000\n",
      "ERROR make sure the correct laser itnensity is assigned!\n",
      "Focusing: {'dz': [-2000.0, -1500.0, -1000.0, -500.0, 0.0, 500.0, 1000.0, 1500.0, 2000.0]}\n",
      "offset_z:4452\n",
      "Move microscope to (XY): 20000/35000\n",
      "ERROR make sure the correct laser itnensity is assigned!\n",
      "Focusing: {'dz': [-2000.0, -1500.0, -1000.0, -500.0, 0.0, 500.0, 1000.0, 1500.0, 2000.0]}\n",
      "offset_z:4043\n",
      "Move microscope to (XY): 29000/35000\n",
      "ERROR make sure the correct laser itnensity is assigned!\n",
      "Focusing: {'dz': [-2000.0, -1500.0, -1000.0, -500.0, 0.0, 500.0, 1000.0, 1500.0, 2000.0]}\n",
      "offset_z:3042\n",
      "Move microscope to (XY): 38000/35000\n",
      "ERROR make sure the correct laser itnensity is assigned!\n",
      "Focusing: {'dz': [-2000.0, -1500.0, -1000.0, -500.0, 0.0, 500.0, 1000.0, 1500.0, 2000.0]}\n",
      "offset_z:3662\n",
      "Move microscope to (XY): 47000/35000\n",
      "ERROR make sure the correct laser itnensity is assigned!\n",
      "Focusing: {'dz': [-2000.0, -1500.0, -1000.0, -500.0, 0.0, 500.0, 1000.0, 1500.0, 2000.0]}\n"
     ]
    }
   ],
   "source": [
    "\n",
    "#time.sleep(60*30) # let cells sediment \n",
    "# Microscope coordinates\n",
    "#i_experiment = 0\n",
    "autofocus_dz = 2000\n",
    "autofocus_Nz= 9\n",
    "mytime = -time.time()\n",
    "#t_duration = 20 # minutes\n",
    "focus_pos_list = None # start with a fresh list\n",
    "Nx=8\n",
    "Ny=6\n",
    "well_to_well_steps= 9000\n",
    "t_duration = 60 # how long does the experiment preform?\n",
    "t_period = 5 # min - how often should the expimrent be carried out?\n",
    "is_autofocus = True\n",
    "    \n",
    "offset_x = 2000\n",
    "offset_Y = 0\n",
    "while True:\n",
    "    \n",
    "    if (time.time()-mytime)>t_period*60:\n",
    "        mytime = time.time()\n",
    "\n",
    "        print(i_experiment)\n",
    "        # perform a testing well scan by moving robot to light position and do a whole plate scan\n",
    "        move_to_coord(pipette_8, position_sample_light, offset=(0,0,0), minimum_z_height=minimum_z_height)\n",
    "        focus_pos_list = wellscan(microscope, offset_x, offset_y, i_experiment,\n",
    "                Nx, Ny, well_to_well_steps,\n",
    "                autofocus_dz, autofocus_Nz,\n",
    "                    name_experiment=\"wellscan_post_2_\"+timestamp,\n",
    "                    focus_pos_list=focus_pos_list, is_autofocus=is_autofocus,\n",
    "                    is_autofocus_fine = False, \n",
    "                    is_autofocus_fast = False,\n",
    "                    I_laser=0, I_led=1,\n",
    "                    t_debounce=0.5)\n",
    "        i_experiment += 1\n",
    "\n",
    "        if i_experiment%30==0:\n",
    "            is_autofocus = True\n",
    "        else:\n",
    "            is_autofocus = False\n",
    "\n",
    "\n",
    "#n_cells = imjoy.plugin(\"Countcells\", image_stack)\n",
    "#new_protocol = decide(n_cells)"
   ]
  }
 ],
 "metadata": {
  "kernelspec": {
   "display_name": "Python 3",
   "language": "python",
   "name": "python3"
  },
  "language_info": {
   "codemirror_mode": {
    "name": "ipython",
    "version": 3
   },
   "file_extension": ".py",
   "mimetype": "text/x-python",
   "name": "python",
   "nbconvert_exporter": "python",
   "pygments_lexer": "ipython3",
   "version": "3.7.1"
  }
 },
 "nbformat": 4,
 "nbformat_minor": 2
}
