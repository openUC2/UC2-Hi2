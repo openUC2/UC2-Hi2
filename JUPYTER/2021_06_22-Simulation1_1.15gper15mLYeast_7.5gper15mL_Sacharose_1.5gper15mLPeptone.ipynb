{
 "cells": [
  {
   "cell_type": "code",
   "execution_count": 2,
   "metadata": {},
   "outputs": [
    {
     "name": "stdout",
     "output_type": "stream",
     "text": [
      "The autoreload extension is already loaded. To reload it, use:\n",
      "  %reload_ext autoreload\n"
     ]
    }
   ],
   "source": [
    "%load_ext autoreload\n",
    "%autoreload 2\n",
    "\n",
    "# organize the imports\n",
    "import opentrons.execute\n",
    "from opentrons import types \n",
    "import time\n",
    "import numpy as np\n",
    "import opentrons\n",
    "from  opentrons.types import Location, Point\n",
    "\n",
    "from opentrons_helper import * \n",
    "\n",
    "from opentrons import simulate"
   ]
  },
  {
   "cell_type": "code",
   "execution_count": 3,
   "metadata": {},
   "outputs": [
    {
     "name": "stdout",
     "output_type": "stream",
     "text": [
      "Prepare yeast:  0.15 g per 15ml bottle\n",
      "Prepare peptone:  0.15 g per 15ml bottle\n",
      "Prepare sachharose:  1.5 g per 15ml bottle\n",
      "Stock solution: (Yeast, Peptone, Sachharose:\n",
      "Yeast, | ,  Peptone,  | , Sachharose:\n",
      "[g/L]  |  [g/L]  |  [g/L]\n",
      "10.0  |  0.0  |  0.0\n",
      "10.0  |  0.0  |  1.0\n",
      "10.0  |  0.0  |  2.0\n",
      "10.0  |  0.0  |  5.0\n",
      "10.0  |  0.0  |  10.0\n",
      "10.0  |  0.0  |  20.0\n",
      "10.0  |  0.0  |  50.0\n",
      "10.0  |  0.0  |  100.0\n",
      "10.0  |  1.0  |  0.0\n",
      "10.0  |  1.0  |  1.0\n",
      "10.0  |  1.0  |  2.0\n",
      "10.0  |  1.0  |  5.0\n",
      "10.0  |  1.0  |  10.0\n",
      "10.0  |  1.0  |  20.0\n",
      "10.0  |  1.0  |  50.0\n",
      "10.0  |  1.0  |  100.0\n",
      "10.0  |  2.0  |  0.0\n",
      "10.0  |  2.0  |  1.0\n",
      "10.0  |  2.0  |  2.0\n",
      "10.0  |  2.0  |  5.0\n",
      "10.0  |  2.0  |  10.0\n",
      "10.0  |  2.0  |  20.0\n",
      "10.0  |  2.0  |  50.0\n",
      "10.0  |  2.0  |  100.0\n",
      "10.0  |  5.0  |  0.0\n",
      "10.0  |  5.0  |  1.0\n",
      "10.0  |  5.0  |  2.0\n",
      "10.0  |  5.0  |  5.0\n",
      "10.0  |  5.0  |  10.0\n",
      "10.0  |  5.0  |  20.0\n",
      "10.0  |  5.0  |  50.0\n",
      "10.0  |  5.0  |  100.0\n",
      "10.0  |  10.0  |  0.0\n",
      "10.0  |  10.0  |  1.0\n",
      "10.0  |  10.0  |  2.0\n",
      "10.0  |  10.0  |  5.0\n",
      "10.0  |  10.0  |  10.0\n",
      "10.0  |  10.0  |  20.0\n",
      "10.0  |  10.0  |  50.0\n",
      "10.0  |  10.0  |  100.0\n",
      "10.0  |  20.0  |  0.0\n",
      "10.0  |  20.0  |  1.0\n",
      "10.0  |  20.0  |  2.0\n",
      "10.0  |  20.0  |  5.0\n",
      "10.0  |  20.0  |  10.0\n",
      "10.0  |  20.0  |  20.0\n",
      "10.0  |  20.0  |  50.0\n",
      "10.0  |  20.0  |  100.0\n",
      "10.0  |  50.0  |  0.0\n",
      "10.0  |  50.0  |  1.0\n",
      "10.0  |  50.0  |  2.0\n",
      "10.0  |  50.0  |  5.0\n",
      "10.0  |  50.0  |  10.0\n",
      "10.0  |  50.0  |  20.0\n",
      "10.0  |  50.0  |  50.0\n",
      "10.0  |  50.0  |  100.0\n",
      "10.0  |  100.0  |  0.0\n",
      "10.0  |  100.0  |  1.0\n",
      "10.0  |  100.0  |  2.0\n",
      "10.0  |  100.0  |  5.0\n",
      "10.0  |  100.0  |  10.0\n",
      "10.0  |  100.0  |  20.0\n",
      "10.0  |  100.0  |  50.0\n",
      "10.0  |  100.0  |  100.0\n"
     ]
    }
   ],
   "source": [
    "'''\n",
    "Protocol in a nutshell\n",
    "'''\n",
    "\n",
    "V_aspirate = 200e-6\n",
    "V_flask = 15e-3\n",
    "c_peptone = 10 # g/L\n",
    "c_yeast = 10 # g/L\n",
    "c_sach = 100 #g/L\n",
    "c_sach_var = (0,1,2,5,10,20,50,100) # # g/L\n",
    "# compute the solution in the 15ml bottle:\n",
    "# ammount in flask in gramm\n",
    "a_yeast = c_yeast*V_flask\n",
    "a_peptone = c_peptone*V_flask\n",
    "a_sach = c_sach*V_flask\n",
    "print(\"Prepare yeast: \",c_yeast*V_flask, \"g per 15ml bottle\")\n",
    "print(\"Prepare peptone: \",c_peptone*V_flask, \"g per 15ml bottle\")\n",
    "print(\"Prepare sachharose: \",c_sach*V_flask, \"g per 15ml bottle\")\n",
    "'''\n",
    "final concentration for sachharose if we mix it with water:\n",
    "    C=(a1+a2)/(V1+V2)\n",
    "     =>\n",
    "     C_fina l = (C_stock*V_sachh)/(V_sachh+V_water)\n",
    "     V_aspirate = V_sachh+V_water\n",
    "     =>\n",
    "     V_water = V_aspirate*(C_final-C_stock)/C_stock\n",
    "'''\n",
    "#%%\n",
    "print(\"Stock solution: (Yeast, Peptone, Sachharose:\")\n",
    "print(\"Yeast, | ,  Peptone,  | , Sachharose:\")\n",
    "print(\"[g/L]\",\" | \", \"[g/L]\",\" | \", \"[g/L]\")\n",
    "for c_peptone in (0,1,2,5,10,20,50,100):\n",
    "    for c_i_sach in c_sach_var:\n",
    "        #compute amount of water to end up with concentration for sachharose\n",
    "        V_water = V_aspirate*(c_sach-c_i_sach)/c_sach\n",
    "        V_sachh = V_aspirate-V_water\n",
    "    #    print(\"V_yeast : \", V_aspirate*1e6, \"V_peptone: \", V_aspirate*1e6, \"V_sachh: \",V_sachh*1e6, \"V_water: \", V_water*1e6, \"µl\")   \n",
    "        print((V_aspirate*c_yeast)/V_aspirate,\" | \", V_aspirate*c_peptone/V_aspirate, \" | \",  round((c_sach*V_sachh)/V_aspirate,2))\n",
    "        "
   ]
  },
  {
   "cell_type": "code",
   "execution_count": 14,
   "metadata": {},
   "outputs": [
    {
     "name": "stdout",
     "output_type": "stream",
     "text": [
      "Microscope is in simulation mode\n"
     ]
    }
   ],
   "source": [
    "'''\n",
    "Connect to the microscope \n",
    "'''\n",
    "\n",
    "from microscope_client import MicroscopeClient \n",
    "microscope = MicroscopeClient(host=\"21.3.2.3\", port=5000, is_simulate=True)\n",
    "#!pip3 install zeroconf\n",
    "#!pip3 install requests\n"
   ]
  },
  {
   "cell_type": "code",
   "execution_count": 5,
   "metadata": {},
   "outputs": [],
   "source": [
    "# Connect to the opentrons robot\n",
    "protocol = simulate.get_protocol_api('2.10')\n",
    "protocol.home()\n",
    "\n",
    "# setup the pipets\n",
    "pipette = protocol.load_instrument('p300_single_gen2', 'right')\n",
    "pipette_8 = protocol.load_instrument('p300_multi', 'left') # causes errors -> don't use two pipettes!!\n",
    "\n",
    "# setup the labware in the trays\n",
    "plate_microscope = protocol.load_labware('corning_96_wellplate_360ul_flat', location='3')\n",
    "#plate_reagents = protocol.load_labware('corning_24_wellplate_3.4ml_flat', location='9')\n",
    "plate_reagents = protocol.load_labware('opentrons_24_tuberack_eppendorf_1.5ml_safelock_snapcap', location='10')\n",
    "plate_reagents_water = protocol.load_labware('opentrons_24_tuberack_eppendorf_1.5ml_safelock_snapcap', location='7')\n",
    "\n",
    "\n",
    "# Move light to the sample \n",
    "tiprack = protocol.load_labware('opentrons_96_tiprack_300ul',location='11')\n",
    "\n",
    "# sample plate on microscope\n",
    "# offset of the well plate in mm\n"
   ]
  },
  {
   "cell_type": "code",
   "execution_count": 6,
   "metadata": {},
   "outputs": [],
   "source": [
    "from opentrons.types import Location, Point\n",
    "\n",
    "# set speed\n",
    "#protocol.max_speeds['X'] = 200 # default = 400\n",
    "#protocol.max_speeds['Y'] = 200 # default = 300\n",
    "\n",
    "# ######\n",
    "# 0 4 8\n",
    "# 1 5 9\n",
    "# 2 6 10 \n",
    "# 3 7 11\n",
    "\n",
    "# wells with reagents\n",
    "i_yeast = 0\n",
    "i_peptone = 1\n",
    "i_sugar = 2\n",
    "\n",
    "# different Well\n",
    "i_water = 0\n",
    "\n",
    "\n",
    "# define timig\n",
    "t_bsa = 15\n",
    "t_primary = 60\n",
    "t_secondary = 60\n",
    "t_fluo = 30*0\n",
    "\n",
    "# move it down since opentrons expects the reagents to be furthter away from the ground\n",
    "offset_z_reagents = -65\n",
    "\n",
    "# define locations \n",
    "minimum_z_height = 150 # minimum height for arcs driven by the robot\n",
    "\n",
    "# compute the positions\n",
    "position_trash =  (365,350, 100)\n",
    "\n",
    "position_idle =  (100,100, 150)#"
   ]
  },
  {
   "cell_type": "markdown",
   "metadata": {},
   "source": [
    "# Calibrate"
   ]
  },
  {
   "cell_type": "code",
   "execution_count": 15,
   "metadata": {},
   "outputs": [
    {
     "name": "stdout",
     "output_type": "stream",
     "text": [
      "1\n",
      "My pipette number: 1and type: <class 'int'>\n",
      "<class 'int'>\n"
     ]
    }
   ],
   "source": [
    "'''\n",
    "calibrate tiprack\n",
    "'''\n",
    "#protocol.home()\n",
    "i_pipette = 1\n",
    "#pitty, but moving the xy coordinates doesn't work\n",
    "print(i_pipette)\n",
    "offset_pipette_rack=(1,3,0)\n",
    "tiprack.set_calibration(Point(*offset_pipette_rack))\n",
    "\n",
    "i_pipette=pickup_fresh_pipette_tip(i_pipette, pipette, tiprack, offset_pipette_rack=offset_pipette_rack)\n",
    "print(type(i_pipette))"
   ]
  },
  {
   "cell_type": "code",
   "execution_count": 16,
   "metadata": {},
   "outputs": [
    {
     "data": {
      "text/plain": [
       "{'on': True}"
      ]
     },
     "execution_count": 16,
     "metadata": {},
     "output_type": "execute_result"
    }
   ],
   "source": [
    "#from opentrons_client import OpentronsClient \n",
    "#ot2 = OpentronsClient(host=\"21.3.2.4\", port=31950)\n",
    "#ot2.toggle_light(True)\n",
    "#ipot2.pipette_home(location=\"right\")\n",
    "#pos = ot2.positions()"
   ]
  },
  {
   "cell_type": "code",
   "execution_count": null,
   "metadata": {},
   "outputs": [],
   "source": []
  },
  {
   "cell_type": "code",
   "execution_count": 17,
   "metadata": {},
   "outputs": [
    {
     "name": "stdout",
     "output_type": "stream",
     "text": [
      "Microscope is homing...\n",
      "Please add a pipette first!\n",
      "Moving to: (250, 99, 190)\n"
     ]
    }
   ],
   "source": [
    "'''\n",
    "calibrate illumination poisiton\n",
    "'''\n",
    "microscope.home()\n",
    "#protocol.home()\n",
    "#position_idle =  (100,300, 150)#\n",
    "#move_to_coord(pipette, position_idle, offset=(0,0,0), minimum_z_height=minimum_z_height)\n",
    "well_to_well_steps= 9100\n",
    "#microscope.home()\n",
    "position_sample_light = (250, 99, 190)\n",
    "\n",
    "# This offset represents the position of well 7!\n",
    "offset_x = 4000 # 1290+0*9000\n",
    "offset_y = -1000# -1400+4*9000\n",
    "offset_z = microscope.position[\"z\"]\n",
    "move_to_coord(pipette_8, position_sample_light, offset=(0,0,0), minimum_z_height=minimum_z_height)\n",
    "microscope.set_laser_led(0,1)\n",
    "microscope.move((offset_x,offset_y,offset_z),absolute=True)\n",
    "autofocus_dz = 500\n",
    "autofocus_Nz = 7\n",
    "is_autofocus = False\n",
    "#offset_z = microscope.autofocus_coarse(dz=autofocus_dz, nz=autofocus_Nz)\n",
    "#microscope.set_laser_led(0,1)\n",
    "\n",
    "\n",
    "microscope.move((offset_x,offset_y,offset_z),absolute=True)"
   ]
  },
  {
   "cell_type": "code",
   "execution_count": 18,
   "metadata": {},
   "outputs": [],
   "source": [
    "\n",
    "microscope.set_laser_led(0,1)"
   ]
  },
  {
   "cell_type": "code",
   "execution_count": 19,
   "metadata": {},
   "outputs": [
    {
     "name": "stdout",
     "output_type": "stream",
     "text": [
      "[251.38  142.24  135.885]\n",
      "Moving to: (251.38, 142.24, 135.885)\n",
      "[251.38  133.24  135.885]\n",
      "Moving to: (251.38, 133.24, 135.885)\n",
      "[251.38  124.24  135.885]\n",
      "Moving to: (251.38, 124.24000000000001, 135.885)\n",
      "[251.38  115.24  135.885]\n",
      "Moving to: (251.38, 115.24000000000001, 135.885)\n",
      "Moving to: (251.38, 115.24000000000001, 145.885)\n"
     ]
    }
   ],
   "source": [
    "'''\n",
    "Calibrate Wellposition for sample coordinates (96well plate)\n",
    "pipette should dip in the wells on the microscope\n",
    "\n",
    "'''\n",
    "#pipette.home()\n",
    "offset_z = microscope.position[\"z\"]\n",
    "home_position_microscope=(0,0,offset_z)\n",
    "microscope.move((home_position_microscope))\n",
    "\n",
    "minimum_z_height = 155\n",
    "offset_plate_sample=(-28,68,127)\n",
    "plate_microscope.set_calibration(Point(*offset_plate_sample))\n",
    "\n",
    "for i_pos in range(4):\n",
    "        position_sample_i = np.array(plate_microscope.wells()[i_pos].center()._point)\n",
    "        print(position_sample_i)\n",
    "        move_to_coord(pipette, position_sample_i, offset=(0,0,0), minimum_z_height=minimum_z_height)\n",
    "move_to_coord(pipette, position_sample_i, offset=(0,0,10), minimum_z_height=minimum_z_height)\n",
    "\n",
    "\n"
   ]
  },
  {
   "cell_type": "code",
   "execution_count": 20,
   "metadata": {},
   "outputs": [
    {
     "ename": "TypeError",
     "evalue": "'int' object is not subscriptable",
     "output_type": "error",
     "traceback": [
      "\u001b[0;31m---------------------------------------------------------------------------\u001b[0m",
      "\u001b[0;31mTypeError\u001b[0m                                 Traceback (most recent call last)",
      "\u001b[0;32m<ipython-input-20-46687c521bb8>\u001b[0m in \u001b[0;36m<module>\u001b[0;34m()\u001b[0m\n\u001b[1;32m      9\u001b[0m \u001b[0moffset_z_reagents\u001b[0m \u001b[0;34m=\u001b[0m \u001b[0;34m-\u001b[0m\u001b[0;36m50\u001b[0m \u001b[0;31m# smaller number means: go up\u001b[0m\u001b[0;34m\u001b[0m\u001b[0;34m\u001b[0m\u001b[0m\n\u001b[1;32m     10\u001b[0m \u001b[0;32mfor\u001b[0m \u001b[0mi_pos\u001b[0m \u001b[0;32min\u001b[0m \u001b[0mrange\u001b[0m\u001b[0;34m(\u001b[0m\u001b[0;36m3\u001b[0m\u001b[0;34m)\u001b[0m\u001b[0;34m:\u001b[0m\u001b[0;34m\u001b[0m\u001b[0;34m\u001b[0m\u001b[0m\n\u001b[0;32m---> 11\u001b[0;31m     \u001b[0mi_pipette\u001b[0m \u001b[0;34m=\u001b[0m \u001b[0mpickup_fresh_pipette_tip\u001b[0m\u001b[0;34m(\u001b[0m\u001b[0mi_pipette\u001b[0m\u001b[0;34m,\u001b[0m \u001b[0mpipette\u001b[0m\u001b[0;34m,\u001b[0m \u001b[0mtiprack\u001b[0m\u001b[0;34m,\u001b[0m \u001b[0;34m-\u001b[0m\u001b[0;36m8\u001b[0m\u001b[0;34m)\u001b[0m\u001b[0;34m\u001b[0m\u001b[0;34m\u001b[0m\u001b[0m\n\u001b[0m\u001b[1;32m     12\u001b[0m     \u001b[0mposition_reagent_i\u001b[0m \u001b[0;34m=\u001b[0m \u001b[0mnp\u001b[0m\u001b[0;34m.\u001b[0m\u001b[0marray\u001b[0m\u001b[0;34m(\u001b[0m\u001b[0mplate_reagents\u001b[0m\u001b[0;34m.\u001b[0m\u001b[0mwells\u001b[0m\u001b[0;34m(\u001b[0m\u001b[0;34m)\u001b[0m\u001b[0;34m[\u001b[0m\u001b[0mi_pos\u001b[0m\u001b[0;34m]\u001b[0m\u001b[0;34m.\u001b[0m\u001b[0mcenter\u001b[0m\u001b[0;34m(\u001b[0m\u001b[0;34m)\u001b[0m\u001b[0;34m.\u001b[0m\u001b[0m_point\u001b[0m\u001b[0;34m)\u001b[0m\u001b[0;34m\u001b[0m\u001b[0;34m\u001b[0m\u001b[0m\n\u001b[1;32m     13\u001b[0m     \u001b[0mmove_to_coord\u001b[0m\u001b[0;34m(\u001b[0m\u001b[0mpipette\u001b[0m\u001b[0;34m,\u001b[0m \u001b[0mposition_reagent_i\u001b[0m\u001b[0;34m,\u001b[0m \u001b[0moffset\u001b[0m\u001b[0;34m=\u001b[0m\u001b[0;34m(\u001b[0m\u001b[0moffset_x_reagents\u001b[0m\u001b[0;34m,\u001b[0m\u001b[0moffset_y_reagents\u001b[0m\u001b[0;34m,\u001b[0m\u001b[0moffset_z_reagents\u001b[0m\u001b[0;34m)\u001b[0m\u001b[0;34m,\u001b[0m \u001b[0mminimum_z_height\u001b[0m\u001b[0;34m=\u001b[0m\u001b[0mminimum_z_height\u001b[0m\u001b[0;34m)\u001b[0m\u001b[0;34m\u001b[0m\u001b[0;34m\u001b[0m\u001b[0m\n",
      "\u001b[0;32m/var/lib/jupyter/notebooks/opentrons_helper.py\u001b[0m in \u001b[0;36mpickup_fresh_pipette_tip\u001b[0;34m(i_pipette, pipette, tiprack, offset_pipette_rack)\u001b[0m\n\u001b[1;32m    130\u001b[0m         \u001b[0mprint\u001b[0m\u001b[0;34m(\u001b[0m\u001b[0;34m\"Something went wrong\"\u001b[0m\u001b[0;34m)\u001b[0m\u001b[0;34m\u001b[0m\u001b[0;34m\u001b[0m\u001b[0m\n\u001b[1;32m    131\u001b[0m     \u001b[0mmy_fresh_tip\u001b[0m \u001b[0;34m=\u001b[0m \u001b[0mtiprack\u001b[0m\u001b[0;34m.\u001b[0m\u001b[0mwells\u001b[0m\u001b[0;34m(\u001b[0m\u001b[0;34m)\u001b[0m\u001b[0;34m[\u001b[0m\u001b[0mi_pipette\u001b[0m\u001b[0;34m]\u001b[0m\u001b[0;34m\u001b[0m\u001b[0;34m\u001b[0m\u001b[0m\n\u001b[0;32m--> 132\u001b[0;31m     \u001b[0madjusted_location\u001b[0m \u001b[0;34m=\u001b[0m \u001b[0mmy_fresh_tip\u001b[0m\u001b[0;34m.\u001b[0m\u001b[0mcenter\u001b[0m\u001b[0;34m(\u001b[0m\u001b[0;34m)\u001b[0m\u001b[0;34m.\u001b[0m\u001b[0mmove\u001b[0m\u001b[0;34m(\u001b[0m\u001b[0mtypes\u001b[0m\u001b[0;34m.\u001b[0m\u001b[0mPoint\u001b[0m\u001b[0;34m(\u001b[0m\u001b[0mx\u001b[0m\u001b[0;34m=\u001b[0m\u001b[0moffset_pipette_rack\u001b[0m\u001b[0;34m[\u001b[0m\u001b[0;36m0\u001b[0m\u001b[0;34m]\u001b[0m\u001b[0;34m,\u001b[0m \u001b[0my\u001b[0m\u001b[0;34m=\u001b[0m\u001b[0moffset_pipette_rack\u001b[0m\u001b[0;34m[\u001b[0m\u001b[0;36m1\u001b[0m\u001b[0;34m]\u001b[0m\u001b[0;34m,\u001b[0m \u001b[0mz\u001b[0m\u001b[0;34m=\u001b[0m\u001b[0moffset_pipette_rack\u001b[0m\u001b[0;34m[\u001b[0m\u001b[0;36m2\u001b[0m\u001b[0;34m]\u001b[0m\u001b[0;34m)\u001b[0m\u001b[0;34m)\u001b[0m\u001b[0;34m\u001b[0m\u001b[0;34m\u001b[0m\u001b[0m\n\u001b[0m\u001b[1;32m    133\u001b[0m     \u001b[0;31m#_pipette.pick_up_tip(_adjusted_location)\u001b[0m\u001b[0;34m\u001b[0m\u001b[0;34m\u001b[0m\u001b[0;34m\u001b[0m\u001b[0m\n\u001b[1;32m    134\u001b[0m     \u001b[0;31m#pipette.move_to(_adjusted_location)\u001b[0m\u001b[0;34m\u001b[0m\u001b[0;34m\u001b[0m\u001b[0;34m\u001b[0m\u001b[0m\n",
      "\u001b[0;31mTypeError\u001b[0m: 'int' object is not subscriptable"
     ]
    }
   ],
   "source": [
    "# goes into all 3 reagent slots \n",
    "'''\n",
    "calibrate reagetn slots\n",
    "'''\n",
    "pipette.home()\n",
    "\n",
    "offset_x_reagents = -4\n",
    "offset_y_reagents = 8\n",
    "offset_z_reagents = -50 # smaller number means: go up\n",
    "for i_pos in range(3):\n",
    "    i_pipette = pickup_fresh_pipette_tip(i_pipette, pipette, tiprack, -8)\n",
    "    position_reagent_i = np.array(plate_reagents.wells()[i_pos].center()._point)\n",
    "    move_to_coord(pipette, position_reagent_i, offset=(offset_x_reagents,offset_y_reagents,offset_z_reagents), minimum_z_height=minimum_z_height)\n",
    "\n",
    "# move out of the well again\n",
    "move_to_coord(pipette, position_reagent_i, offset=(0,0,20), minimum_z_height=minimum_z_height)\n"
   ]
  },
  {
   "cell_type": "markdown",
   "metadata": {},
   "source": [
    "# Start the experiment"
   ]
  },
  {
   "cell_type": "code",
   "execution_count": 21,
   "metadata": {},
   "outputs": [],
   "source": [
    "# initialize strings\n",
    "from datetime import datetime\n",
    "timestamp = datetime.now().strftime(\"%Y_%m_%d-%I-%M-%S_%p\")\n",
    "i_experiment = 0\n",
    "\n",
    "\n",
    "\n",
    "'''\n",
    "##############################################################################\n",
    "##########################HOW MANY WELLS DO WE WANT TO DISPENSE?!##########################\n",
    "##############################################################################\n",
    "'''\n",
    "\n",
    "\n",
    "well_id_list = np.arange(0,8*10) # we don't want to go to the very end."
   ]
  },
  {
   "cell_type": "markdown",
   "metadata": {},
   "source": [
    "## Add Yeast solution ( 0.15g/15mL) -> 200 uL per pipette to the sample plate"
   ]
  },
  {
   "cell_type": "code",
   "execution_count": null,
   "metadata": {},
   "outputs": [
    {
     "name": "stdout",
     "output_type": "stream",
     "text": [
      "My pipette number: 2and type: <class 'int'>\n",
      "Moving to: (14.21, 354.93, 10.949999999999996)\n",
      "WARNING:opentrons.protocol_api.protocol_context.ProtocolContext.<InstrumentContext: p300_single_v2.0 in RIGHT>:When aspirate is called on something other than a well relative position, we can't move to the top of the well to prepare for aspiration. This might cause over aspiration if the previous command is a blow_out.\n",
      "Moving to: (251.38, 142.24, 135.885)\n",
      "Moving to: (14.21, 354.93, 10.949999999999996)\n",
      "Moving to: (251.38, 133.24, 135.885)\n",
      "Moving to: (14.21, 354.93, 10.949999999999996)\n",
      "Moving to: (251.38, 124.24000000000001, 135.885)\n",
      "Moving to: (14.21, 354.93, 10.949999999999996)\n",
      "Moving to: (251.38, 115.24000000000001, 135.885)\n",
      "Moving to: (14.21, 354.93, 10.949999999999996)\n",
      "Moving to: (251.38, 106.24000000000001, 135.885)\n",
      "Moving to: (14.21, 354.93, 10.949999999999996)\n",
      "Moving to: (251.38, 97.24, 135.885)\n",
      "Moving to: (14.21, 354.93, 10.949999999999996)\n",
      "Moving to: (251.38, 88.24, 135.885)\n",
      "Moving to: (14.21, 354.93, 10.949999999999996)\n",
      "Moving to: (251.38, 79.24, 135.885)\n"
     ]
    }
   ],
   "source": [
    "# move the wellplate to the zero position with the microscope\n",
    "microscope.move(home_position_microscope, absolute=True)\n",
    "\n",
    "# 1. Pickup new pipette\n",
    "i_pipette = pickup_fresh_pipette_tip(i_pipette, pipette, tiprack, offset_pipette_rack)\n",
    "\n",
    "V_aspirate_yeast = 200 #uL \n",
    "\n",
    "for i_pos in range(len(well_id_list)):\n",
    "    # get yeast \n",
    "    position_reagent_i = np.array(plate_reagents.wells()[i_yeast].center()._point)\n",
    "    move_to_coord(pipette, position_reagent_i, offset=(offset_x_reagents,offset_y_reagents,offset_z_reagents), minimum_z_height=minimum_z_height)\n",
    "    pipette.aspirate(V_aspirate_yeast)\n",
    "    \n",
    "    # add yeast to sample\n",
    "    position_sample_i = np.array(plate_microscope.wells()[i_pos].center()._point)\n",
    "    move_to_coord(pipette, position_sample_i, offset=(0,0,0), minimum_z_height=minimum_z_height)\n",
    "    pipette.dispense()\n",
    "    time.sleep(1)\n",
    "        \n",
    "move_to_coord(pipette, position_sample_i, offset=(0,0,10), minimum_z_height=minimum_z_height)\n",
    "\n"
   ]
  },
  {
   "cell_type": "code",
   "execution_count": null,
   "metadata": {},
   "outputs": [],
   "source": []
  },
  {
   "cell_type": "markdown",
   "metadata": {},
   "source": [
    "##  Add peptone solution ( 0.015g/15mL) -> 200 uL per pipette to the sample plate\n",
    "\n",
    "PERHAPS WE CAN ALSO MAKE THIS HERE \"ADAPTIVE\"? SO THAT YOU ENTER THE EXPERIMENT ID AND THE VALUE WILL AUTOMATICALLY BE EXPORTED/STORED? I KNOW THAT YOU WILL PREPARE THE BOTTLE WITH THE PEPTONE BEFOREHAND\n",
    "\n",
    "\n",
    "```py\n",
    "V_aspirate_peptone = 200 #uL\n",
    "```\n"
   ]
  },
  {
   "cell_type": "code",
   "execution_count": null,
   "metadata": {},
   "outputs": [],
   "source": [
    "# move the wellplate to the zero position with the microscope\n",
    "microscope.move(home_position_microscope, absolute=True)\n",
    "\n",
    "# 1. Pickup new pipette\n",
    "i_pipette = pickup_fresh_pipette_tip(i_pipette, pipette, tiprack, offset_pipette_rack)\n",
    "\n",
    "V_aspirate_peptone = 200 #uL\n",
    "\n",
    "for i_pos in range(len(well_id_list)):\n",
    "    # get yeast \n",
    "    position_reagent_i = np.array(plate_reagents.wells()[i_peptone].center()._point)\n",
    "    move_to_coord(pipette, position_reagent_i, offset=(offset_x_reagents,offset_y_reagents,offset_z_reagents), minimum_z_height=minimum_z_height)\n",
    "    pipette.aspirate(V_aspirate_peptone)\n",
    "    \n",
    "    # add yeast to sample\n",
    "    position_sample_i = np.array(plate_microscope.wells()[i_pos].center()._point)\n",
    "    move_to_coord(pipette, position_sample_i, offset=(0,0,0), minimum_z_height=minimum_z_height)\n",
    "    pipette.dispense()\n",
    "    time.sleep(1)\n",
    "        \n",
    "move_to_coord(pipette, position_sample_i, offset=(0,0,10), minimum_z_height=minimum_z_height)\n",
    "\n"
   ]
  },
  {
   "cell_type": "code",
   "execution_count": null,
   "metadata": {},
   "outputs": [],
   "source": [
    "#V_aspirate_water + V_aspirate_sugar = 200 \n",
    "\n"
   ]
  },
  {
   "cell_type": "markdown",
   "metadata": {},
   "source": [
    "## Add sugar solution 1 ( 1.5g/15mL) plus water -> variable uL per pipette to the sample plate"
   ]
  },
  {
   "cell_type": "code",
   "execution_count": null,
   "metadata": {},
   "outputs": [],
   "source": [
    "# move the wellplate to the zero position with the microscope\n",
    "microscope.move(home_position_microscope, absolute=True)\n",
    "\n",
    "# 1. Pickup new pipette\n",
    "i_pipette = pickup_fresh_pipette_tip(i_pipette, pipette, tiprack, offset_pipette_rack)\n",
    "\n",
    "#V_aspirate_sugar = np.arange(len(well_id_list))\n",
    "\n",
    "# sugar solution 1 to be added to wells from well plate 0 till 1/2 way through \n",
    "# water to be added in same range as above .\n",
    "# j varies from 20 to 200 uL for 10 equally spaced values.\n",
    "\n",
    "\n",
    "for i_pos in range(0,len(well_id_list//2)) and for j in np.linspace(20,200,10):\n",
    "    V_aspirate_sugar = j\n",
    "    V_aspirate_water = 200 - j\n",
    "        # get sugar\n",
    "    position_reagent_i = np.array(plate_reagents.wells()[i_sugar].center()._point)\n",
    "    move_to_coord(pipette, position_reagent_i, offset=(offset_x_reagents,offset_y_reagents,offset_z_reagents), minimum_z_height=minimum_z_height)\n",
    "    pipette.aspirate(V_aspirate_sugar[i_pos])\n",
    "\n",
    "        # add sugar to sample \n",
    "    position_sample_i = np.array(plate_microscope.wells()[i_pos].center()._point)\n",
    "    move_to_coord(pipette, position_sample_i, offset=(0,0,0), minimum_z_height=minimum_z_height)\n",
    "    pipette.dispense()\n",
    "    time.sleep(1)\n",
    "    \n",
    "    \n",
    "    #get water\n",
    "    position_reagent_i = np.array(plate_reagents_water.wells()[i_water].center()._point)\n",
    "    move_to_coord(pipette, position_reagent_i, offset=(offset_x_reagents,offset_y_reagents,offset_z_reagents), minimum_z_height=minimum_z_height)\n",
    "    pipette.aspirate(V_aspirate_water)\n",
    "    \n",
    "    # add water to sample \n",
    "    position_sample_i = np.array(plate_microscope.wells()[i_pos].center()._point)\n",
    "    move_to_coord(pipette, position_sample_i, offset=(0,0,0), minimum_z_height=minimum_z_height)\n",
    "    pipette.dispense()\n",
    "    time.sleep(1)\n",
    "        \n",
    "move_to_coord(pipette, position_sample_i, offset=(0,0,10), minimum_z_height=minimum_z_height)\n",
    "\n"
   ]
  },
  {
   "cell_type": "markdown",
   "metadata": {},
   "source": [
    "## Add sugar solution 2 ( 0.015g/15mL) plus water-> variable uL per pipette to the sample plate\n"
   ]
  },
  {
   "cell_type": "code",
   "execution_count": null,
   "metadata": {},
   "outputs": [],
   "source": [
    "# move the wellplate to the zero position with the microscope\n",
    "microscope.move(home_position_microscope, absolute=True)\n",
    "\n",
    "# 1. Pickup new pipette\n",
    "i_pipette = pickup_fresh_pipette_tip(i_pipette, pipette, tiprack, offset_pipette_rack)\n",
    "\n",
    "#V_aspirate_sugar = np.arange(len(well_id_list))\n",
    "\n",
    "\n",
    "# sugar solution 2 to be added to wells from 1/2 way through till end \n",
    "# water to be added in same range as above .\n",
    "# j varies from 20 to 200 uL for 10 equally spaced values.\n",
    "for i_pos in range(len(well_id_list//2),len(well_id_list)) and for j in np.linspace(20,200,10): :\n",
    "    V_aspirate_sugar = j\n",
    "    V_aspirate_water = 200 - j\n",
    "        # get sugar\n",
    "    position_reagent_i = np.array(plate_reagents.wells()[i_sugar].center()._point)\n",
    "    move_to_coord(pipette, position_reagent_i, offset=(offset_x_reagents,offset_y_reagents,offset_z_reagents), minimum_z_height=minimum_z_height)\n",
    "    pipette.aspirate(V_aspirate_sugar[i_pos])\n",
    "\n",
    "        # add sugar to sample \n",
    "    position_sample_i = np.array(plate_microscope.wells()[i_pos].center()._point)\n",
    "    move_to_coord(pipette, position_sample_i, offset=(0,0,0), minimum_z_height=minimum_z_height)\n",
    "    pipette.dispense()\n",
    "    time.sleep(1)\n",
    "    \n",
    "    \n",
    "    #get water\n",
    "    position_reagent_i = np.array(plate_reagents_water.wells()[i_water].center()._point)\n",
    "    move_to_coord(pipette, position_reagent_i, offset=(offset_x_reagents,offset_y_reagents,offset_z_reagents), minimum_z_height=minimum_z_height)\n",
    "    pipette.aspirate(V_aspirate_water)\n",
    "    \n",
    "    # add water to sample \n",
    "    position_sample_i = np.array(plate_microscope.wells()[i_pos].center()._point)\n",
    "    move_to_coord(pipette, position_sample_i, offset=(0,0,0), minimum_z_height=minimum_z_height)\n",
    "    pipette.dispense()\n",
    "    time.sleep(1)\n",
    "        \n",
    "move_to_coord(pipette, position_sample_i, offset=(0,0,10), minimum_z_height=minimum_z_height)\n",
    "\n"
   ]
  },
  {
   "cell_type": "markdown",
   "metadata": {},
   "source": [
    "## 12 hour time lapse"
   ]
  },
  {
   "cell_type": "code",
   "execution_count": null,
   "metadata": {},
   "outputs": [],
   "source": [
    "# overnight ( 6 hour time lapse)\n",
    "time.sleep(60*60*12)"
   ]
  },
  {
   "cell_type": "markdown",
   "metadata": {},
   "source": [
    "## Microscope position config"
   ]
  },
  {
   "cell_type": "code",
   "execution_count": null,
   "metadata": {},
   "outputs": [],
   "source": [
    "# lets assume the robots light source is in place \n",
    "microscope.set_laser_led(i_laser=0, i_led=1)\n",
    "\n",
    "\n",
    "# lets define the position for the seventh well (ID)\n",
    "offset_x = 5000\n",
    "offset_y = -1000\n",
    "offset_z = 1500\n",
    "\n",
    "microscope.move((offset_x, offset_y, offset_z))\n",
    "\n",
    "print(microscope.position)\n",
    "\n",
    "offset_z\n",
    "I_laser = 0\n",
    "I_led = 1\n",
    "id = 0\n",
    "\n"
   ]
  },
  {
   "cell_type": "markdown",
   "metadata": {},
   "source": [
    "## Take focus-defocus images after time-lapse "
   ]
  },
  {
   "cell_type": "code",
   "execution_count": null,
   "metadata": {},
   "outputs": [],
   "source": [
    "# create the object for the well scanner \n",
    "wellscanner = Hi2Module( microscope, well_to_well_steps=9000,\n",
    "             N_wells = 96, Nx = 8, Ny = 12)\n",
    "\n",
    "# set the well-position of the well number  7 \n",
    "#wellscanner.set_offset_for_well_id_7(offset_x, offset_y)\n",
    "\n",
    "\n",
    "microscope.home()\n",
    "for id in range(0,95):\n",
    "\n",
    "    # first go to well ID \n",
    "    wellscanner.move_to_well_id(offset_z=None, well_index=id)\n",
    "    \n",
    "    # get the acutal position of the microscope\n",
    "    current_x, current_y, _ = microscope.position['x'],  microscope.position['y'],  microscope.position['z']\n",
    "    \n",
    "   # current_x += np.radnom.rnadniintcurrent_x+ 500\n",
    "    \n",
    "    microscope.set_laser_led(I_laser,I_led)\n",
    "    \n",
    "    offset_z = microscope.autofocus_coarse(dz=1000, nz=15)\n",
    "    current_x, current_y, _ = microscope.position['x'],  microscope.position['y'],  microscope.position['z']\n",
    "    \n",
    "\n",
    "    # 1. capture the in-focus image\n",
    "    base_filename = 'data_generation_GAN_17Jun_'\n",
    "    params = {\n",
    "        \"filename\": base_filename+\"de_focus_\"+str(id),\n",
    "    }\n",
    "    microscope.set_laser_led(I_laser,I_led)\n",
    "    microscope.move((offset_x, offset_y, offset_z))\n",
    "    time.sleep(1)\n",
    "    microscope.capture_image_to_disk(params)\n",
    "\n",
    "    max_dz = 200 # the maximum value the focus may differ => plus minus max_dz/2\n",
    "    offset_z_defocus = offset_z+ np.random.randint(max_dz)-(max_dz//2)\n",
    "    print(offset_z_defocus)\n",
    "\n",
    "    # 2. cpature the defocus image \n",
    "    params = {\n",
    "        \"filename\": base_filename+\"in_focus_\"+str(id),\n",
    "    }\n",
    "\n",
    "    microscope.move((current_x, current_y, offset_z_defocus))\n",
    "    time.sleep(1) # debounce any vibvration\n",
    "    microscope.capture_image_to_disk(params)\n",
    "\n"
   ]
  },
  {
   "cell_type": "markdown",
   "metadata": {},
   "source": [
    "### Additional steps : "
   ]
  },
  {
   "cell_type": "code",
   "execution_count": null,
   "metadata": {},
   "outputs": [],
   "source": [
    "# Do we need this ?\n",
    "\n",
    "#microscope.plate_shaking(1)\n",
    "move_to_coord(pipette_8, position_sample_light, offset=(0,0,0), minimum_z_height=minimum_z_height)\n",
    "mytime = -time.time()\n",
    "\n",
    "t_period = 20 # min - how often should the expimrent be carried out?\n",
    "is_autofocus = True\n",
    "is_find_prefocus = True\n",
    "autofocus_dz = 1500\n",
    "autofocus_Nz = 15\n",
    "#i_experiment = 0\n",
    "focus_pos_list = []\n",
    "while True:\n",
    "\n",
    "    if time.time()-mytime > (t_period*60):\n",
    "        mytime = time.time()\n",
    "        i_experiment += 1\n",
    "    \n",
    "        # perform a testing well scan by moving robot to light position and do a whole plate scan\n",
    "        #move_to_coord(pipette_8, position_sample_light, offset=(0,0,0), minimum_z_height=minimum_z_height)\n",
    "        wellscanner.wellscan_list(\n",
    "                    i_experiment,\n",
    "                    well_id_list,\n",
    "                    autofocus_dz, \n",
    "                    autofocus_Nz,\n",
    "                    name_experiment=\"wellscan_yeast__new_\",\n",
    "                    is_autofocus=is_autofocus, \n",
    "                    I_laser=0, \n",
    "                    I_led=1,\n",
    "                    t_debounce=.5,\n",
    "                    is_find_prefocus=is_find_prefocus,\n",
    "                    process_func=None)\n",
    "        is_autofocus = False\n",
    "        is_find_prefocus = False\n",
    "        \n",
    "    else:\n",
    "        time.sleep(1)\n",
    "        \n",
    "\n",
    "    \n",
    "\n",
    "\n",
    "\n",
    "            \n",
    "        "
   ]
  },
  {
   "cell_type": "code",
   "execution_count": null,
   "metadata": {},
   "outputs": [],
   "source": [
    "microscope.set_laser_led(0,1)\n",
    "wellscanner.move_to_well_id(7)"
   ]
  },
  {
   "cell_type": "code",
   "execution_count": null,
   "metadata": {},
   "outputs": [],
   "source": []
  }
 ],
 "metadata": {
  "kernelspec": {
   "display_name": "Python 3",
   "language": "python",
   "name": "python3"
  },
  "language_info": {
   "codemirror_mode": {
    "name": "ipython",
    "version": 3
   },
   "file_extension": ".py",
   "mimetype": "text/x-python",
   "name": "python",
   "nbconvert_exporter": "python",
   "pygments_lexer": "ipython3",
   "version": "3.7.1"
  }
 },
 "nbformat": 4,
 "nbformat_minor": 2
}
