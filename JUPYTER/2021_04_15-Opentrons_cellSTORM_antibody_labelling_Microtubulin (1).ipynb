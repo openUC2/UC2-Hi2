{
 "cells": [
  {
   "cell_type": "code",
   "execution_count": 40,
   "metadata": {},
   "outputs": [],
   "source": [
    "# organize the imports\n",
    "import opentrons.execute\n",
    "from opentrons import types \n",
    "import time\n",
    "import numpy as np\n"
   ]
  },
  {
   "cell_type": "code",
   "execution_count": 41,
   "metadata": {},
   "outputs": [
    {
     "data": {
      "text/plain": [
       "'/usr/lib/python3.7/site-packages/opentrons/__init__.pyc'"
      ]
     },
     "execution_count": 41,
     "metadata": {},
     "output_type": "execute_result"
    }
   ],
   "source": [
    "import opentrons\n",
    "opentrons.__file__"
   ]
  },
  {
   "cell_type": "code",
   "execution_count": 42,
   "metadata": {},
   "outputs": [],
   "source": [
    "#!pip3 install zeroconf\n",
    "#!pip3 install requests\n",
    "\n",
    "# Connect to the microscope \n",
    "from microscope_client import MicroscopeClient \n",
    "microscope = MicroscopeClient(host=\"192.168.178.33\", port=5000)\n"
   ]
  },
  {
   "cell_type": "code",
   "execution_count": null,
   "metadata": {},
   "outputs": [],
   "source": []
  },
  {
   "cell_type": "code",
   "execution_count": 43,
   "metadata": {},
   "outputs": [
    {
     "name": "stderr",
     "output_type": "stream",
     "text": [
      "WARNING:opentrons.hardware_control.util:Out of bounds move: X=(418.00000000000006 motor controller, 419.5412429817696 deck) too high for limit 418.0\n",
      "WARNING:opentrons.hardware_control.util:Out of bounds move: X=(418.00000000000006 motor controller, 419.5412429817696 deck) too high for limit 418.0\n"
     ]
    }
   ],
   "source": [
    "# Connect to the opentrons robot\n",
    "protocol = opentrons.execute.get_protocol_api('2.9')\n",
    "protocol.home()\n",
    "\n",
    "# setup the pipets\n",
    "pipette = protocol.load_instrument('p300_single_gen2', 'right')\n",
    "pipette_8 = protocol.load_instrument('p300_multi', 'left') # causes errors -> don't use two pipettes!!\n"
   ]
  },
  {
   "cell_type": "code",
   "execution_count": null,
   "metadata": {},
   "outputs": [],
   "source": []
  },
  {
   "cell_type": "code",
   "execution_count": 44,
   "metadata": {},
   "outputs": [],
   "source": [
    "# setup the labware in the trays\n",
    "#plate_microscope = protocol.load_labware('corning_96_wellplate_360ul_flat', location='5')\n",
    "plate_reagents = protocol.load_labware('corning_24_wellplate_3.4ml_flat', location='7')\n",
    "\n",
    "# Move light to the sample \n",
    "tiprack = protocol.load_labware('opentrons_96_filtertiprack_200ul',location='8')"
   ]
  },
  {
   "cell_type": "code",
   "execution_count": 45,
   "metadata": {},
   "outputs": [
    {
     "data": {
      "text/plain": [
       "{'_point': Point(x=17.48, y=233.37, z=11.57),\n",
       " '_labware': B1 of Corning 24 Well Plate 3.4 mL Flat on 7}"
      ]
     },
     "execution_count": 45,
     "metadata": {},
     "output_type": "execute_result"
    }
   ],
   "source": [
    "plate_reagents.well(1).center().__dict__"
   ]
  },
  {
   "cell_type": "code",
   "execution_count": 53,
   "metadata": {},
   "outputs": [],
   "source": [
    "from opentrons.types import Location, Point\n",
    "\n",
    "# ######\n",
    "# 0 4 8\n",
    "# 1 5 9\n",
    "# 2 6 10 \n",
    "# 3 7 11\n",
    "\n",
    "\n",
    "i_primary = 0\n",
    "i_secondary = 1\n",
    "i_bsa = 2\n",
    "i_pbs = 3\n",
    "i_trash = 4\n",
    "i_mea = 5\n",
    "V_aspirate = 200\n",
    "\n",
    "offset_z_reagents = -20\n",
    "# define locations \n",
    "minimum_z_height = 150 # minimum height for arcs driven by the robot\n",
    "position_sample_light = (124+128, 163, 200)\n",
    "position_sample =  (124+128,133,130)#\n",
    "position_idle =  (200,200,140)#\n",
    "position_primary = list(plate_reagents.well(i_primary).center()._point)\n",
    "position_secondary = list(plate_reagents.well(i_secondary).center()._point)\n",
    "position_bsa = list(plate_reagents.well(i_bsa).center()._point)\n",
    "position_pbs = list(plate_reagents.well(i_pbs).center()._point)\n",
    "position_mea = list(plate_reagents.well(i_mea).center()._point)\n",
    "position_trash = list(plate_reagents.well(i_trash).center()._point)\n",
    "\n",
    "\n",
    "def move_to_coord(pipette, position_xyz, offset = (0,0,0), minimum_z_height=190):\n",
    "    if pipette._last_tip_picked_up_from is None:\n",
    "        print(\"Please add a pipette first!\")\n",
    "        \n",
    "        \n",
    "    position_final = (position_xyz[0]+offset[0],\n",
    "                        position_xyz[1]+offset[1],\n",
    "                        position_xyz[2]+offset[2])\n",
    "    print(\"Moving to: \"+str(position_final))                       \n",
    "    pipette.move_to(Location(Point(*position_final), None),minimum_z_height=minimum_z_height)\n",
    "\n",
    "\n",
    "# set speed\n",
    "protocol.max_speeds['X'] = 200 # default = 400\n",
    "protocol.max_speeds['Y'] = 200 # default = 300\n",
    "\n",
    "def pickup_fresh_pipette_tip(i_pipette, pipette, tiprack, z_offset=-3):\n",
    "    try:\n",
    "        my_fresh_tip = tiprack.wells()[i_pipette]\n",
    "        adjusted_location = my_fresh_tip.center().move(types.Point(x=0, y=0, z=z_offset))\n",
    "        pipette.pick_up_tip(adjusted_location)\n",
    "    except Exception as e:\n",
    "        print(e)\n",
    "        i_pipette += 1\n",
    "        print(\"no pipette attached\")\n",
    "        pipette.drop_tip()\n",
    "        pipette.pick_up_tip(my_fresh_tip)\n",
    "\n",
    "    return i_pipette\n",
    "\n",
    "\n",
    "def takesnapshot(pipette, position_sample_light, offset=(2,-2,0)):\n",
    "    microscope.set_laser_led(0,1)\n",
    "    move_to_coord(pipette, position_sample_light, offset=offset, minimum_z_height=minimum_z_height)\n",
    "    microscope.capture_image_to_disk()\n",
    "    microscope.set_laser_led(0,0)"
   ]
  },
  {
   "cell_type": "code",
   "execution_count": 51,
   "metadata": {},
   "outputs": [
    {
     "name": "stdout",
     "output_type": "stream",
     "text": [
      "Please add a pipette first!\n",
      "Moving to: (252, 163, 200)\n"
     ]
    }
   ],
   "source": [
    "#protocol.home()\n",
    "i_pipette = 0 \n",
    "t_wait_primary = 120 # minutes\n",
    "takesnapshot(pipette_8, position_sample_light, offset=(0,0,0))\n"
   ]
  },
  {
   "cell_type": "code",
   "execution_count": 55,
   "metadata": {},
   "outputs": [
    {
     "name": "stdout",
     "output_type": "stream",
     "text": [
      "Please add a pipette first!\n",
      "Moving to: (100, 200, 120)\n"
     ]
    },
    {
     "name": "stderr",
     "output_type": "stream",
     "text": [
      "WARNING:opentrons.hardware_control.util:Out of bounds move: A=(171.65 motor controller, 171.65 deck) too high for limit 170.15\n",
      "WARNING:opentrons.hardware_control.util:Out of bounds move: A=(171.65 motor controller, 171.65 deck) too high for limit 170.15\n"
     ]
    }
   ],
   "source": [
    "position_idle =  (100,200,140)#\n",
    "move_to_coord(pipette, position_idle, offset=(0,0,offset_z_reagents), minimum_z_height=minimum_z_height)"
   ]
  },
  {
   "cell_type": "code",
   "execution_count": 54,
   "metadata": {},
   "outputs": [
    {
     "name": "stdout",
     "output_type": "stream",
     "text": [
      "Please add a pipette first!\n",
      "Moving to: (252, 163, 200)\n"
     ]
    }
   ],
   "source": [
    "move_to_coord(pipette_8, position_sample_light, offset=(0,0,0), minimum_z_height=minimum_z_height)\n",
    "microscope.set_laser_led(100,1)"
   ]
  },
  {
   "cell_type": "markdown",
   "metadata": {},
   "source": [
    "# Blocking"
   ]
  },
  {
   "cell_type": "code",
   "execution_count": 34,
   "metadata": {},
   "outputs": [
    {
     "name": "stdout",
     "output_type": "stream",
     "text": [
      "Cannot pick up tip with a tip attached\n",
      "no pipette attached\n"
     ]
    },
    {
     "name": "stderr",
     "output_type": "stream",
     "text": [
      "WARNING:opentrons.hardware_control.util:Out of bounds move: A=(171.65 motor controller, 171.65 deck) too high for limit 170.15\n",
      "WARNING:opentrons.hardware_control.util:Out of bounds move: A=(171.65 motor controller, 171.65 deck) too high for limit 170.15\n"
     ]
    },
    {
     "name": "stdout",
     "output_type": "stream",
     "text": [
      "Moving to: (17.48, 214.07, -8.43)\n"
     ]
    },
    {
     "name": "stderr",
     "output_type": "stream",
     "text": [
      "WARNING:opentrons.hardware_control.util:Out of bounds move: A=(171.65 motor controller, 171.65 deck) too high for limit 170.15\n"
     ]
    },
    {
     "name": "stdout",
     "output_type": "stream",
     "text": [
      "Moving to: (252, 133, 131)\n"
     ]
    },
    {
     "name": "stderr",
     "output_type": "stream",
     "text": [
      "WARNING:opentrons.hardware_control.util:Out of bounds move: A=(171.65 motor controller, 171.65 deck) too high for limit 170.15\n",
      "WARNING:opentrons.hardware_control.util:Out of bounds move: A=(171.65 motor controller, 171.65 deck) too high for limit 170.15\n"
     ]
    },
    {
     "name": "stdout",
     "output_type": "stream",
     "text": [
      "Moving to: (17.48, 214.07, -8.43)\n"
     ]
    },
    {
     "name": "stderr",
     "output_type": "stream",
     "text": [
      "WARNING:opentrons.hardware_control.util:Out of bounds move: A=(171.65 motor controller, 171.65 deck) too high for limit 170.15\n"
     ]
    }
   ],
   "source": [
    "# pkcup primary\n",
    "#pipette.home()\n",
    "i_pipette = pickup_fresh_pipette_tip(i_pipette, pipette, tiprack, -8)\n",
    "\n",
    "#i_pipette = pickup_fresh_pipette_tip(i_pipette, pipette, tiprack)\n",
    "V_aspirate = 100\n",
    "\n",
    "move_to_coord(pipette, position_bsa, offset=(0,0,offset_z_reagents), minimum_z_height=minimum_z_height)\n",
    "pipette.aspirate(V_aspirate)\n",
    "\n",
    "# add primary to sample\n",
    "move_to_coord(pipette, position_sample, offset=(0,0,1), minimum_z_height=minimum_z_height)\n",
    "pipette.dispense()\n",
    "pipette.mix(3)\n",
    "\n",
    "# shake a bit\n",
    "x_shaking = 1\n",
    "for _ in range(0):\n",
    "    move_to_coord(pipette, position_sample, offset=(x_shaking,0,0), minimum_z_height=None)\n",
    "    move_to_coord(pipette, pipette, position_sample, offset=(x_shaking,x_shaking,0), minimum_z_height=None)\n",
    "    move_to_coord(pipette, position_sample, offset=(0,x_shaking,0), minimum_z_height=None)\n",
    "    move_to_coord(pipette, position_sample, offset=(0,0,0), minimum_z_height=None)\n",
    "    \n",
    "move_to_coord(pipette, position_bsa, offset=(0,0,offset_z_reagents), minimum_z_height=minimum_z_height)\n"
   ]
  },
  {
   "cell_type": "markdown",
   "metadata": {},
   "source": [
    "# Wait 10 minutes and remove BSA "
   ]
  },
  {
   "cell_type": "code",
   "execution_count": 35,
   "metadata": {},
   "outputs": [
    {
     "name": "stderr",
     "output_type": "stream",
     "text": [
      "WARNING:opentrons.hardware_control.util:Out of bounds move: A=(171.65 motor controller, 171.65 deck) too high for limit 170.15\n"
     ]
    },
    {
     "name": "stdout",
     "output_type": "stream",
     "text": [
      "Moving to: (252, 133, 131)\n"
     ]
    },
    {
     "name": "stderr",
     "output_type": "stream",
     "text": [
      "WARNING:opentrons.hardware_control.util:Out of bounds move: A=(171.65 motor controller, 171.65 deck) too high for limit 170.15\n",
      "WARNING:opentrons.hardware_control.util:Out of bounds move: A=(171.65 motor controller, 171.65 deck) too high for limit 170.15\n"
     ]
    },
    {
     "name": "stdout",
     "output_type": "stream",
     "text": [
      "Moving to: (36.78, 252.67000000000002, 11.57)\n"
     ]
    },
    {
     "name": "stderr",
     "output_type": "stream",
     "text": [
      "WARNING:opentrons.hardware_control.util:Out of bounds move: A=(171.65 motor controller, 171.65 deck) too high for limit 170.15\n"
     ]
    }
   ],
   "source": [
    "# remove PBS from sample\n",
    "t_wait_wash=1\n",
    "move_to_coord(pipette, position_sample, offset=(0,0,1), minimum_z_height=minimum_z_height)\n",
    "\n",
    "pipette.aspirate(200)\n",
    "move_to_coord(pipette, position_trash, offset=(0,0,0), minimum_z_height=minimum_z_height)\n",
    "pipette.dispense()\n",
    "pipette.blow_out()\n",
    "\n",
    "# wait for 60s\n",
    "time.sleep(t_wait_wash)"
   ]
  },
  {
   "cell_type": "markdown",
   "metadata": {},
   "source": [
    "# Take a snapshot of the cells"
   ]
  },
  {
   "cell_type": "code",
   "execution_count": 38,
   "metadata": {},
   "outputs": [
    {
     "name": "stdout",
     "output_type": "stream",
     "text": [
      "Please add a pipette first!\n",
      "Moving to: (252, 166, 200)\n",
      "(252, 166, 200)\n"
     ]
    }
   ],
   "source": [
    "def autofocus_coarse(dz=1000, nz=11, is_uselight=False):\n",
    "    if is_uselight:\n",
    "        microscope.set_laser_led(0,1)\n",
    "        time.sleep(.2)\n",
    "    payload = {'dz': list(np.linspace(-dz,dz,nz))}\n",
    "    print(\"Focusing: \"+str(payload))\n",
    "    microscope.extensions[\"org.openflexure.autofocus\"][\"autofocus\"].post_json(payload)\n",
    "    if is_uselight:\n",
    "        microscope.set_laser_led(0,0)\n",
    "    return microscope.position['z']\n",
    "\n",
    "\n",
    "#autofocus_coarse(3000,7,is_uselight=True)\n",
    "takesnapshot(pipette_8, position_sample_light, offset=(0,0,0))\n",
    "\n",
    "print(position_sample_light)\n",
    "microscope.set_laser_led(0,0)\n"
   ]
  },
  {
   "cell_type": "markdown",
   "metadata": {},
   "source": [
    "# Grab and Add Primary Antibody"
   ]
  },
  {
   "cell_type": "code",
   "execution_count": 100,
   "metadata": {},
   "outputs": [
    {
     "name": "stdout",
     "output_type": "stream",
     "text": [
      "Moving to: (17.48, 252.67000000000002, -3.4299999999999997)\n"
     ]
    },
    {
     "name": "stderr",
     "output_type": "stream",
     "text": [
      "WARNING:opentrons.hardware_control.util:Out of bounds move: A=(171.65 motor controller, 171.65 deck) too high for limit 170.15\n",
      "WARNING:opentrons.hardware_control.util:Out of bounds move: A=(171.65 motor controller, 171.65 deck) too high for limit 170.15\n",
      "WARNING:opentrons.hardware_control.util:Out of bounds move: A=(171.65 motor controller, 171.65 deck) too high for limit 170.15\n"
     ]
    },
    {
     "name": "stdout",
     "output_type": "stream",
     "text": [
      "Moving to: (252, 133, 131)\n"
     ]
    },
    {
     "name": "stderr",
     "output_type": "stream",
     "text": [
      "WARNING:opentrons.hardware_control.util:Out of bounds move: A=(171.65 motor controller, 171.65 deck) too high for limit 170.15\n"
     ]
    },
    {
     "ename": "TypeError",
     "evalue": "move_to_coord() missing 1 required positional argument: 'position_xyz'",
     "output_type": "error",
     "traceback": [
      "\u001b[0;31m---------------------------------------------------------------------------\u001b[0m",
      "\u001b[0;31mTypeError\u001b[0m                                 Traceback (most recent call last)",
      "\u001b[0;32m<ipython-input-100-4f658bd45dbf>\u001b[0m in \u001b[0;36m<module>\u001b[0;34m()\u001b[0m\n\u001b[1;32m     20\u001b[0m \u001b[0;34m\u001b[0m\u001b[0m\n\u001b[1;32m     21\u001b[0m \u001b[0;31m# take image\u001b[0m\u001b[0;34m\u001b[0m\u001b[0;34m\u001b[0m\u001b[0;34m\u001b[0m\u001b[0m\n\u001b[0;32m---> 22\u001b[0;31m \u001b[0mmove_to_coord\u001b[0m\u001b[0;34m(\u001b[0m\u001b[0mposition_sample_light\u001b[0m\u001b[0;34m,\u001b[0m \u001b[0moffset\u001b[0m\u001b[0;34m=\u001b[0m\u001b[0;34m(\u001b[0m\u001b[0;36m2\u001b[0m\u001b[0;34m,\u001b[0m\u001b[0;34m-\u001b[0m\u001b[0;36m2\u001b[0m\u001b[0;34m,\u001b[0m\u001b[0;36m0\u001b[0m\u001b[0;34m)\u001b[0m\u001b[0;34m,\u001b[0m \u001b[0mminimum_z_height\u001b[0m\u001b[0;34m=\u001b[0m\u001b[0mminimum_z_height\u001b[0m\u001b[0;34m)\u001b[0m\u001b[0;34m\u001b[0m\u001b[0;34m\u001b[0m\u001b[0m\n\u001b[0m\u001b[1;32m     23\u001b[0m \u001b[0mmicroscope\u001b[0m\u001b[0;34m.\u001b[0m\u001b[0mcapture_image_to_disk\u001b[0m\u001b[0;34m(\u001b[0m\u001b[0;34m)\u001b[0m\u001b[0;34m\u001b[0m\u001b[0;34m\u001b[0m\u001b[0m\n",
      "\u001b[0;31mTypeError\u001b[0m: move_to_coord() missing 1 required positional argument: 'position_xyz'"
     ]
    }
   ],
   "source": [
    "# pkcup primary\n",
    "#i_pipette = pickup_fresh_pipette_tip(i_pipette, pipette, tiprack)\n",
    "V_aspirate = 100\n",
    "\n",
    "move_to_coord(pipette, position_primary, offset=(0,0,offset_z_reagents), minimum_z_height=minimum_z_height)\n",
    "pipette.aspirate(V_aspirate)\n",
    "\n",
    "# add primary to sample\n",
    "move_to_coord(pipette, position_sample, offset=(0,0,1), minimum_z_height=minimum_z_height)\n",
    "pipette.dispense()\n",
    "pipette.mix(3)\n",
    "\n",
    "# shake a bit\n",
    "x_shaking = 1\n",
    "for _ in range(0):\n",
    "    move_to_coord(pipette, position_sample, offset=(x_shaking,0,0), minimum_z_height=None)\n",
    "    move_to_coord(pipette, position_sample, offset=(x_shaking,x_shaking,0), minimum_z_height=None)\n",
    "    move_to_coord(pipette, position_sample, offset=(0,x_shaking,0), minimum_z_height=None)\n",
    "    move_to_coord(pipette, position_sample, offset=(0,0,0), minimum_z_height=None)\n",
    "    \n",
    "# take image \n",
    "takesnapshot(pipette_8, position_sample_light, offset=(0,0,0))\n",
    "\n"
   ]
  },
  {
   "cell_type": "markdown",
   "metadata": {},
   "source": [
    "Now we need to wait until the antibody bind to the cell, in the meantime we want to continously capture images \n"
   ]
  },
  {
   "cell_type": "code",
   "execution_count": null,
   "metadata": {},
   "outputs": [],
   "source": [
    "time_primary = time.time()\n",
    "t_wait_primary = 120\n",
    "t_period_imaging = 60\n",
    "\n",
    "i_image = 0\n",
    "t_last_image = 0\n",
    "while time.time()-time_primary<t_wait_primary*60:\n",
    "    \n",
    "    if time.time()-t_last_image > t_period_imaging*60:\n",
    "        # do time lapse imaging\n",
    "        print(\"Taking image...\"+str(i_image)\n",
    "        # take image \n",
    "        move_to_coord(pipette, position_sample_light, offset=(2,-2,0), minimum_z_height=minimum_z_height)\n",
    "        microscope.capture_image_to_disk()\n",
    "        t_last_image = time.time()\n",
    "        i_image += 1\n"
   ]
  },
  {
   "cell_type": "markdown",
   "metadata": {},
   "source": [
    "\n",
    "# Wash sample 3x "
   ]
  },
  {
   "cell_type": "code",
   "execution_count": null,
   "metadata": {},
   "outputs": [],
   "source": [
    "pipette.home()\n",
    "i_pipette = pickup_fresh_pipette_tip(i_pipette, pipette, tiprack)\n",
    "\n",
    "# add primary to sample\n",
    "V_aspirate = 100\n",
    "t_wait_wash = 1 # 60\n",
    "\n",
    "# remove liquid from sample \n",
    "move_to_coord(pipette, position_sample, offset=(0,0,0), minimum_z_height=minimum_z_height)\n",
    "pipette.aspirate(V_aspirate)\n",
    "\n",
    "# trash liquid\n",
    "move_to_coord(pipette, position_trash, offset=(0,0,-15), minimum_z_height=minimum_z_height)\n",
    "pipette.dispense(V_aspirate)\n",
    "\n",
    "for i in range(3):\n",
    "    # grab PBS\n",
    "    move_to_coord(pipette, position_pbs, offset=(0,0,-15), minimum_z_height=minimum_z_height)\n",
    "    pipette.aspirate(V_aspirate)\n",
    "\n",
    "    # add PBS to sample\n",
    "    move_to_coord(pipette, position_sample, offset=(0,0,1), minimum_z_height=minimum_z_height)\n",
    "    pipette.dispense()\n",
    "    pipette.mix(1)\n",
    "    \n",
    "    \n",
    "    # remove PBS from sample\n",
    "    pipette.aspirate(V_aspirate+50)\n",
    "    move_to_coord(pipette, position_trash, offset=(0,0,0), minimum_z_height=minimum_z_height)\n",
    "    pipette.dispense()\n",
    "    pipette.blow_out()\n",
    "    \n",
    "    # wait for 60s\n",
    "    time.sleep(t_wait_wash)"
   ]
  },
  {
   "cell_type": "markdown",
   "metadata": {},
   "source": [
    "# Grab and Add Secondary Antibody"
   ]
  },
  {
   "cell_type": "code",
   "execution_count": null,
   "metadata": {},
   "outputs": [],
   "source": [
    "# pkcup secondary\n",
    "i_pipette = pickup_fresh_pipette_tip(i_pipette, pipette, tiprack)\n",
    "V_aspirate = 100\n",
    "\n",
    "move_to_coord(pipette, position_secondary, offset=(0,0,offset_z_reagents), minimum_z_height=minimum_z_height)\n",
    "pipette.aspirate(V_aspirate)\n",
    "\n",
    "# add primary to sample\n",
    "move_to_coord(position_sample, offset=(0,0,0), minimum_z_height=minimum_z_height)\n",
    "pipette.dispense()\n",
    "pipette.mix(3)\n",
    "\n",
    "# shake a bit\n",
    "x_shaking = 1\n",
    "for _ in range(0):\n",
    "    move_to_coord(pipette, position_sample, offset=(x_shaking,0,0), minimum_z_height=None)\n",
    "    move_to_coord(pipette, position_sample, offset=(x_shaking,x_shaking,0), minimum_z_height=None)\n",
    "    move_to_coord(pipette, position_sample, offset=(0,x_shaking,0), minimum_z_height=None)\n",
    "    move_to_coord(pipette, position_sample, offset=(0,0,0), minimum_z_height=None)\n",
    "    \n",
    "# take image \n",
    "move_to_coord(position_sample_light, offset=(2,-2,0), minimum_z_height=minimum_z_height)\n",
    "microscope.capture_image_to_disk()\n",
    "\n",
    "# move light somewhere else\n",
    "move_to_coord((20,20,150), offset=(2,-2,0), minimum_z_height=minimum_z_height)\n"
   ]
  },
  {
   "cell_type": "markdown",
   "metadata": {},
   "source": [
    "# Wash 3 times"
   ]
  },
  {
   "cell_type": "code",
   "execution_count": null,
   "metadata": {},
   "outputs": [],
   "source": [
    "i_pipette = pickup_fresh_pipette_tip(i_pipette, pipette, tiprack)\n",
    "\n",
    "# add primary to sample\n",
    "V_aspirate = 100\n",
    "t_wait_wash = 1 # 60\n",
    "\n",
    "# remove liquid from sample \n",
    "move_to_coord(pipette, position_sample, offset=(0,0,0), minimum_z_height=minimum_z_height)\n",
    "pipette.aspirate(V_aspirate)\n",
    "\n",
    "# trash liquid\n",
    "move_to_coord(pipette, position_trash, offset=(0,0,-15), minimum_z_height=minimum_z_height)\n",
    "pipette.dispense(V_aspirate)\n",
    "\n",
    "for i in range(3):\n",
    "    # grab PBS\n",
    "    move_to_coord(pipette, position_pbs, offset=(0,0,-15), minimum_z_height=minimum_z_height)\n",
    "    pipette.aspirate(V_aspirate)\n",
    "\n",
    "    # add PBS to sample\n",
    "    move_to_coord(pipette, position_sample, offset=(0,0,1), minimum_z_height=minimum_z_height)\n",
    "    pipette.dispense()\n",
    "    pipette.mix(1)\n",
    "    \n",
    "    \n",
    "    # remove PBS from sample\n",
    "    pipette.aspirate(V_aspirate+50)\n",
    "    move_to_coord(pipette, position_trash, offset=(0,0,0), minimum_z_height=minimum_z_height)\n",
    "    pipette.dispense()\n",
    "    pipette.blow_out()\n",
    "    \n",
    "    # wait for 60s\n",
    "    time.sleep(t_wait_wash)"
   ]
  },
  {
   "cell_type": "markdown",
   "metadata": {},
   "source": [
    "# Add MEA and perform imaging"
   ]
  },
  {
   "cell_type": "code",
   "execution_count": null,
   "metadata": {},
   "outputs": [],
   "source": [
    "# pkcup secondary\n",
    "i_pipette = pickup_fresh_pipette_tip(i_pipette, pipette, tiprack, -3)\n",
    "V_aspirate = 100\n",
    "\n",
    "\n",
    "move_to_coord(pipette, position_mea, offset=(0,0,offset_z_reagents), minimum_z_height=minimum_z_height)\n",
    "pipette.aspirate(V_aspirate)\n",
    "\n",
    "# add primary to sample\n",
    "move_to_coord(pipette, position_sample, offset=(0,0,0), minimum_z_height=minimum_z_height)\n",
    "pipette.dispense()\n",
    "pipette.mix(3)\n",
    "\n",
    "# shake a bit\n",
    "x_shaking = 1\n",
    "for _ in range(0):\n",
    "    move_to_coord(pipette, position_sample, offset=(x_shaking,0,0), minimum_z_height=None)\n",
    "    move_to_coord(pipette, position_sample, offset=(x_shaking,x_shaking,0), minimum_z_height=None)\n",
    "    move_to_coord(pipette, position_sample, offset=(0,x_shaking,0), minimum_z_height=None)\n",
    "    move_to_coord(pipette, position_sample, offset=(0,0,0), minimum_z_height=None)\n",
    "    \n",
    "# take image \n",
    "move_to_coord(pipette, position_sample_light, offset=(2,-2,0), minimum_z_height=minimum_z_height)\n",
    "microscope.capture_image_to_disk()\n",
    "\n",
    "# move light somewhere else\n",
    "move_to_coord(pipette, (20,20,150), offset=(2,-2,0), minimum_z_height=minimum_z_height)\n",
    "\n",
    "\n",
    "# Turn on the laser and start imaging\n"
   ]
  },
  {
   "cell_type": "code",
   "execution_count": 37,
   "metadata": {},
   "outputs": [
    {
     "name": "stdout",
     "output_type": "stream",
     "text": [
      "{'extension_dict': {'pythonObject': '<labthings.extensions.BaseExtension object at 0x7f345e11d0>', 'description': 'Parent class for all extensions. Handles binding route views and forms. ', 'meta': {'gui': {'icon': 'videocam', 'forms': [{'name': 'Record a video', 'route': '/org.openflexure.video-extension/video', 'isTask': True, 'isCollapsible': False, 'submitLabel': 'Start recording', 'schema': [{'fieldType': 'numberInput', 'name': 'video_length', 'label': 'Length (seconds) of video', 'min': 0.1, 'step': 0.1, 'default': 100}, {'fieldType': 'numberInput', 'name': 'video_framerate', 'label': 'Framerate (Frames Per Second)', 'min': 1, 'max': 90, 'step': 1, 'default': 30}, {'fieldType': 'selectList', 'name': 'video_format', 'label': 'Video format', 'value': 'h264', 'options': ['h264', 'mjpeg', 'yuv', 'rgb', 'rgba', 'bgr', 'bgra']}, {'fieldType': 'numberInput', 'name': 'move_x', 'label': 'Steps to move in X', 'min': 0, 'step': 100, 'default': 0}]}], 'id': 'org.openflexure.video_extension', 'version': '0.0.0'}}, 'title': 'org.openflexure.video_extension', 'links': {'static': {'href': ['http://21.3.2.9:5000/api/v2/extensions/org.openflexure.video-extension/static', 'http://21.3.2.9:5000/api/v2/extensions/org.openflexure.video-extension/static/<path:path>'], 'methods': ['GET'], 'description': ':param path:  (Default value = \"\")'}, 'video_api': {'href': 'http://21.3.2.9:5000/api/v2/extensions/org.openflexure.video-extension/video', 'methods': ['GET', 'POST'], 'description': 'Record a video'}}, 'pythonName': 'org.openflexure.video_extension'}}\n"
     ]
    },
    {
     "name": "stderr",
     "output_type": "stream",
     "text": [
      "WARNING:root:VimbaCameraStreamer.camera is deprecated. Replace with VimbaCameraStreamer.vicamera\n",
      "WARNING:root:VimbaCameraStreamer.camera is deprecated. Replace with VimbaCameraStreamer.vicamera\n",
      "WARNING:root:VimbaCameraStreamer.camera is deprecated. Replace with VimbaCameraStreamer.vicamera\n",
      "WARNING:root:VimbaCameraStreamer.camera is deprecated. Replace with VimbaCameraStreamer.vicamera\n"
     ]
    }
   ],
   "source": [
    "print(microscope.extensions['org.openflexure.video_extension'].__dict__)\n",
    "\n",
    "def record_video(video_format= \"h264\", video_framerate=30,video_length=100):\n",
    "    payload = {\n",
    "      \"move_x\": 0,\n",
    "      \"video_format\": video_format,\n",
    "      \"video_framerate\": video_framerate,\n",
    "      \"video_length\": video_length\n",
    "    }\n",
    "    microscope.extensions['org.openflexure.video_extension']['video_api'].post_json(payload)\n",
    "microscope.set_laser_led(0,1)\n",
    "record_video(video_length=1)\n",
    "\n",
    "microscope.set_laser_led(512,0)\n",
    "record_video(video_length=1)\n",
    "\n",
    "microscope.set_laser_led(0,1)"
   ]
  },
  {
   "cell_type": "code",
   "execution_count": 38,
   "metadata": {},
   "outputs": [],
   "source": [
    "\n",
    "microscope.set_laser_led(1024,1)"
   ]
  },
  {
   "cell_type": "code",
   "execution_count": null,
   "metadata": {},
   "outputs": [],
   "source": []
  },
  {
   "cell_type": "markdown",
   "metadata": {},
   "source": [
    "# Joging the robot\n"
   ]
  },
  {
   "cell_type": "code",
   "execution_count": 39,
   "metadata": {},
   "outputs": [],
   "source": [
    "from __future__ import print_function\n",
    "from ipywidgets import interact, interactive, fixed, interact_manual\n",
    "import ipywidgets as widgets"
   ]
  },
  {
   "cell_type": "code",
   "execution_count": 40,
   "metadata": {},
   "outputs": [],
   "source": [
    "def f(x):\n",
    "    return x"
   ]
  },
  {
   "cell_type": "code",
   "execution_count": 41,
   "metadata": {},
   "outputs": [
    {
     "data": {
      "text/plain": [
       "10"
      ]
     },
     "metadata": {},
     "output_type": "display_data"
    }
   ],
   "source": [
    "interact(f, x=10);"
   ]
  },
  {
   "cell_type": "code",
   "execution_count": null,
   "metadata": {},
   "outputs": [],
   "source": []
  },
  {
   "cell_type": "code",
   "execution_count": null,
   "metadata": {},
   "outputs": [],
   "source": []
  },
  {
   "cell_type": "code",
   "execution_count": null,
   "metadata": {},
   "outputs": [],
   "source": []
  },
  {
   "cell_type": "code",
   "execution_count": null,
   "metadata": {},
   "outputs": [],
   "source": []
  },
  {
   "cell_type": "code",
   "execution_count": null,
   "metadata": {},
   "outputs": [],
   "source": [
    "N_steps_x=5\n",
    "np.array()"
   ]
  },
  {
   "cell_type": "code",
   "execution_count": null,
   "metadata": {},
   "outputs": [],
   "source": []
  }
 ],
 "metadata": {
  "kernelspec": {
   "display_name": "Python 3",
   "language": "python",
   "name": "python3"
  },
  "language_info": {
   "codemirror_mode": {
    "name": "ipython",
    "version": 3
   },
   "file_extension": ".py",
   "mimetype": "text/x-python",
   "name": "python",
   "nbconvert_exporter": "python",
   "pygments_lexer": "ipython3",
   "version": "3.7.1"
  }
 },
 "nbformat": 4,
 "nbformat_minor": 2
}
